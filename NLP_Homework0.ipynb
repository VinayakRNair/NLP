{
  "nbformat": 4,
  "nbformat_minor": 0,
  "metadata": {
    "colab": {
      "name": "NLP_Homework0.ipynb",
      "provenance": [],
      "collapsed_sections": []
    },
    "kernelspec": {
      "name": "python3",
      "display_name": "Python 3"
    }
  },
  "cells": [
    {
      "cell_type": "markdown",
      "metadata": {
        "id": "-3FhHTr_OX4e"
      },
      "source": [
        "Name : Vinayak Renu Nair ;\r\n",
        "     GSU ID : 002553736"
      ]
    },
    {
      "cell_type": "markdown",
      "metadata": {
        "id": "iL5VnaNjOfHD"
      },
      "source": [
        "1) Write a function that finds the factorial of a number. Test the function finding the factorial of the number 10."
      ]
    },
    {
      "cell_type": "code",
      "metadata": {
        "colab": {
          "base_uri": "https://localhost:8080/"
        },
        "id": "VT1T4n1yOSnp",
        "outputId": "9c1c2a0c-248c-462f-e0b6-5eb4170c6ce7"
      },
      "source": [
        "def fact(num):\r\n",
        "  if num == 1 :\r\n",
        "    return 1\r\n",
        "  s = num * fact(num - 1)\r\n",
        "  return s\r\n",
        "\r\n",
        "print(fact(10))"
      ],
      "execution_count": null,
      "outputs": [
        {
          "output_type": "stream",
          "text": [
            "3628800\n"
          ],
          "name": "stdout"
        }
      ]
    },
    {
      "cell_type": "markdown",
      "metadata": {
        "id": "e4x1YEe3Shdl"
      },
      "source": [
        "2) Write a function that determines if a number is a prime number "
      ]
    },
    {
      "cell_type": "code",
      "metadata": {
        "colab": {
          "base_uri": "https://localhost:8080/"
        },
        "id": "fzWakifbSkhZ",
        "outputId": "ae9165f5-c5c2-47cf-9867-e5fd421cf56c"
      },
      "source": [
        "def ispr(num) :\r\n",
        "  if num == 1 :\r\n",
        "    return False\r\n",
        "  if num == 2 :\r\n",
        "    return True\r\n",
        "\r\n",
        "  for i in range(2,num):\r\n",
        "    if (num%i) == 0 :\r\n",
        "      return False\r\n",
        " \r\n",
        "  return True\r\n",
        "\r\n",
        "print(ispr(3))\r\n",
        "print(ispr(1251))"
      ],
      "execution_count": null,
      "outputs": [
        {
          "output_type": "stream",
          "text": [
            "True\n",
            "False\n"
          ],
          "name": "stdout"
        }
      ]
    },
    {
      "cell_type": "markdown",
      "metadata": {
        "id": "GyNS8OE5WGmo"
      },
      "source": [
        "3) Write a function that transposes a matrix. Test with a 3 x 3 identity matrix.\r\n"
      ]
    },
    {
      "cell_type": "code",
      "metadata": {
        "colab": {
          "base_uri": "https://localhost:8080/"
        },
        "id": "HHAkxJx-WLoN",
        "outputId": "53e15f80-e6ec-4e41-842c-05fca76e78dd"
      },
      "source": [
        "def transpose(matrix) :\r\n",
        "  print(\"matrix :\")\r\n",
        "\r\n",
        "  for r in matrix :\r\n",
        "    print(r)\r\n",
        "\r\n",
        "  tr = [[matrix[j][i] for j in range(len(matrix))] for i in range(len(matrix[0]))]\r\n",
        "  print(\"\\n\")\r\n",
        "  print(\"Transpose :\")\r\n",
        "  for r in tr :\r\n",
        "    print(r)\r\n",
        "\r\n",
        "matrix = [[1,2],[3,4],[5,6]]\r\n",
        "\r\n",
        "transpose(matrix)"
      ],
      "execution_count": null,
      "outputs": [
        {
          "output_type": "stream",
          "text": [
            "matrix :\n",
            "[1, 2]\n",
            "[3, 4]\n",
            "[5, 6]\n",
            "\n",
            "\n",
            "Transpose :\n",
            "[1, 3, 5]\n",
            "[2, 4, 6]\n"
          ],
          "name": "stdout"
        }
      ]
    },
    {
      "cell_type": "markdown",
      "metadata": {
        "id": "gt8pbHUJlAEA"
      },
      "source": [
        "4) Using Pandas and Numpy, write a piece of code to combine two series into one. Test\r\n",
        "your code with:\r\n",
        "np.random.seed(0)\r\n",
        "series1 = pd.Series(np.arange(10))\r\n",
        "series2 = pd.Series(np.arange(26))\r\n",
        "Do not forget to set the seed, or your answer won’t be reproducible.\r\n"
      ]
    },
    {
      "cell_type": "code",
      "metadata": {
        "colab": {
          "base_uri": "https://localhost:8080/"
        },
        "id": "rScnimlDlHG7",
        "outputId": "3dd3cadb-5072-45e0-c238-5e79e037e1e9"
      },
      "source": [
        "import pandas as pd\r\n",
        "import numpy as np\r\n",
        "\r\n",
        "np.random.seed(0)\r\n",
        "series1 = np.arange(10)\r\n",
        "series2 = np.arange(26)\r\n",
        "\r\n",
        "length = len(series1) + len(series2)\r\n",
        "newseries = pd.Series(dtype='int',index = range(length))\r\n",
        "\r\n",
        "for i in range(0,length) :\r\n",
        "  if i< len(series1) :\r\n",
        "    newseries[i] = series1[i]\r\n",
        "  else :\r\n",
        "    newseries[i] = series2[i - len(series1)]\r\n",
        "  \r\n",
        "\r\n",
        "print(newseries)"
      ],
      "execution_count": 30,
      "outputs": [
        {
          "output_type": "stream",
          "text": [
            "0      0\n",
            "1      1\n",
            "2      2\n",
            "3      3\n",
            "4      4\n",
            "5      5\n",
            "6      6\n",
            "7      7\n",
            "8      8\n",
            "9      9\n",
            "10     0\n",
            "11     1\n",
            "12     2\n",
            "13     3\n",
            "14     4\n",
            "15     5\n",
            "16     6\n",
            "17     7\n",
            "18     8\n",
            "19     9\n",
            "20    10\n",
            "21    11\n",
            "22    12\n",
            "23    13\n",
            "24    14\n",
            "25    15\n",
            "26    16\n",
            "27    17\n",
            "28    18\n",
            "29    19\n",
            "30    20\n",
            "31    21\n",
            "32    22\n",
            "33    23\n",
            "34    24\n",
            "35    25\n",
            "dtype: int64\n"
          ],
          "name": "stdout"
        }
      ]
    },
    {
      "cell_type": "markdown",
      "metadata": {
        "id": "J5G5kI3epB5w"
      },
      "source": [
        "5) Using pandas, write a piece of code to convert the first character of each element in a\r\n",
        "series to uppercase. Test your code with:\r\n",
        "series = pd.Series(['nlp', 'will', 'be', 'easy?'])\r\n"
      ]
    },
    {
      "cell_type": "code",
      "metadata": {
        "colab": {
          "base_uri": "https://localhost:8080/"
        },
        "id": "tkrVXTW3pHU-",
        "outputId": "b2e651d3-6710-48e5-924a-ae217400cb6f"
      },
      "source": [
        "import numpy as np\r\n",
        "import pandas as pd\r\n",
        "\r\n",
        "series = pd.Series(['nlp','will','be','easy?'])\r\n",
        "\r\n",
        "nseries = series.map(lambda x: x[0].upper() + x[1:])\r\n",
        "\r\n",
        "print(nseries)"
      ],
      "execution_count": null,
      "outputs": [
        {
          "output_type": "stream",
          "text": [
            "0      Nlp\n",
            "1     Will\n",
            "2       Be\n",
            "3    Easy?\n",
            "dtype: object\n"
          ],
          "name": "stdout"
        }
      ]
    },
    {
      "cell_type": "markdown",
      "metadata": {
        "id": "uReelAKVOWqX"
      },
      "source": [
        "Bonus : "
      ]
    },
    {
      "cell_type": "code",
      "metadata": {
        "colab": {
          "base_uri": "https://localhost:8080/"
        },
        "id": "KNbd53sMUohQ",
        "outputId": "1f190599-dc4e-402a-f480-417d0b8ba7bf"
      },
      "source": [
        "import pandas as pd\r\n",
        "import numpy as np\r\n",
        "\r\n",
        "df = pd.DataFrame(np.random.randint(5, 10, 20).reshape(-1, 4), columns = list('abcd'))\r\n",
        "l =[]\r\n",
        "\r\n",
        "for i in df.columns:\r\n",
        "  l.extend(df[i])\r\n",
        "\r\n",
        "print(l)"
      ],
      "execution_count": null,
      "outputs": [
        {
          "output_type": "stream",
          "text": [
            "[8, 9, 6, 8, 9, 7, 9, 7, 6, 9, 6, 9, 6, 6, 8, 7, 6, 5, 9, 9]\n"
          ],
          "name": "stdout"
        }
      ]
    },
    {
      "cell_type": "code",
      "metadata": {
        "colab": {
          "base_uri": "https://localhost:8080/"
        },
        "id": "dOtBjUFudU7C",
        "outputId": "96680cbc-6c1d-45fb-9b4d-8b23031d84ee"
      },
      "source": [
        "frequency = {}\r\n",
        "\r\n",
        "for no in l :\r\n",
        "  if (no in frequency): frequency[no] +=1\r\n",
        "  else : frequency[no] = 1\r\n",
        "\r\n",
        "print(frequency)"
      ],
      "execution_count": null,
      "outputs": [
        {
          "output_type": "stream",
          "text": [
            "{8: 3, 9: 7, 6: 6, 7: 3, 5: 1}\n"
          ],
          "name": "stdout"
        }
      ]
    },
    {
      "cell_type": "code",
      "metadata": {
        "id": "dE31Dy0pdZYd"
      },
      "source": [
        ""
      ],
      "execution_count": 30,
      "outputs": []
    }
  ]
}