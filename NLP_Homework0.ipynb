{
  "nbformat": 4,
  "nbformat_minor": 0,
  "metadata": {
    "colab": {
      "name": "NLP_Homework0.ipynb",
      "provenance": [],
      "collapsed_sections": [],
      "authorship_tag": "ABX9TyOr/wm5G9yvKwEMel8ae+wN",
      "include_colab_link": true
    },
    "kernelspec": {
      "name": "python3",
      "display_name": "Python 3"
    }
  },
  "cells": [
    {
      "cell_type": "markdown",
      "metadata": {
        "id": "view-in-github",
        "colab_type": "text"
      },
      "source": [
        "<a href=\"https://colab.research.google.com/github/VinayakRNair/NLP/blob/main/NLP_Homework0.ipynb\" target=\"_parent\"><img src=\"https://colab.research.google.com/assets/colab-badge.svg\" alt=\"Open In Colab\"/></a>"
      ]
    },
    {
      "cell_type": "markdown",
      "metadata": {
        "id": "-3FhHTr_OX4e"
      },
      "source": [
        "Name : Vinayak Renu Nair ;\r\n",
        "     GSU ID : 002553736"
      ]
    },
    {
      "cell_type": "markdown",
      "metadata": {
        "id": "iL5VnaNjOfHD"
      },
      "source": [
        "1) Write a function that finds the factorial of a number. Test the function finding the factorial of the number 10."
      ]
    },
    {
      "cell_type": "code",
      "metadata": {
        "colab": {
          "base_uri": "https://localhost:8080/"
        },
        "id": "VT1T4n1yOSnp",
        "outputId": "9c1c2a0c-248c-462f-e0b6-5eb4170c6ce7"
      },
      "source": [
        "def fact(num):\r\n",
        "  if num == 1 :\r\n",
        "    return 1\r\n",
        "  s = num * fact(num - 1)\r\n",
        "  return s\r\n",
        "\r\n",
        "print(fact(10))"
      ],
      "execution_count": null,
      "outputs": [
        {
          "output_type": "stream",
          "text": [
            "3628800\n"
          ],
          "name": "stdout"
        }
      ]
    },
    {
      "cell_type": "markdown",
      "metadata": {
        "id": "e4x1YEe3Shdl"
      },
      "source": [
        "2) Write a function that determines if a number is a prime number "
      ]
    },
    {
      "cell_type": "code",
      "metadata": {
        "colab": {
          "base_uri": "https://localhost:8080/"
        },
        "id": "fzWakifbSkhZ",
        "outputId": "ae9165f5-c5c2-47cf-9867-e5fd421cf56c"
      },
      "source": [
        "def ispr(num) :\r\n",
        "  if num == 1 :\r\n",
        "    return False\r\n",
        "  if num == 2 :\r\n",
        "    return True\r\n",
        "\r\n",
        "  for i in range(2,num):\r\n",
        "    if (num%i) == 0 :\r\n",
        "      return False\r\n",
        " \r\n",
        "  return True\r\n",
        "\r\n",
        "print(ispr(3))\r\n",
        "print(ispr(1251))"
      ],
      "execution_count": null,
      "outputs": [
        {
          "output_type": "stream",
          "text": [
            "True\n",
            "False\n"
          ],
          "name": "stdout"
        }
      ]
    },
    {
      "cell_type": "markdown",
      "metadata": {
        "id": "GyNS8OE5WGmo"
      },
      "source": [
        "3) Write a function that transposes a matrix. Test with a 3 x 3 identity matrix.\r\n"
      ]
    },
    {
      "cell_type": "code",
      "metadata": {
        "colab": {
          "base_uri": "https://localhost:8080/"
        },
        "id": "HHAkxJx-WLoN",
        "outputId": "53e15f80-e6ec-4e41-842c-05fca76e78dd"
      },
      "source": [
        "def transpose(matrix) :\r\n",
        "  print(\"matrix :\")\r\n",
        "\r\n",
        "  for r in matrix :\r\n",
        "    print(r)\r\n",
        "\r\n",
        "  tr = [[matrix[j][i] for j in range(len(matrix))] for i in range(len(matrix[0]))]\r\n",
        "  print(\"\\n\")\r\n",
        "  print(\"Transpose :\")\r\n",
        "  for r in tr :\r\n",
        "    print(r)\r\n",
        "\r\n",
        "matrix = [[1,2],[3,4],[5,6]]\r\n",
        "\r\n",
        "transpose(matrix)"
      ],
      "execution_count": null,
      "outputs": [
        {
          "output_type": "stream",
          "text": [
            "matrix :\n",
            "[1, 2]\n",
            "[3, 4]\n",
            "[5, 6]\n",
            "\n",
            "\n",
            "Transpose :\n",
            "[1, 3, 5]\n",
            "[2, 4, 6]\n"
          ],
          "name": "stdout"
        }
      ]
    },
    {
      "cell_type": "markdown",
      "metadata": {
        "id": "gt8pbHUJlAEA"
      },
      "source": [
        "4) Using Pandas and Numpy, write a piece of code to combine two series into one. Test\r\n",
        "your code with:\r\n",
        "np.random.seed(0)\r\n",
        "series1 = pd.Series(np.arange(10))\r\n",
        "series2 = pd.Series(np.arange(26))\r\n",
        "Do not forget to set the seed, or your answer won’t be reproducible.\r\n"
      ]
    },
    {
      "cell_type": "code",
      "metadata": {
        "colab": {
          "base_uri": "https://localhost:8080/"
        },
        "id": "rScnimlDlHG7",
        "outputId": "05c782a5-0f6a-4c40-de6e-ba60711e126e"
      },
      "source": [
        "import pandas as pd\r\n",
        "import numpy as np\r\n",
        "\r\n",
        "np.random.seed(0)\r\n",
        "series1 = np.arange(10)\r\n",
        "series2 = np.arange(26)\r\n",
        "\r\n",
        "length = len(series1) + len(series2)\r\n",
        "\r\n",
        "nseries = []\r\n",
        "\r\n",
        "if len(series1)<len(series2) :\r\n",
        "  t = 1\r\n",
        "\r\n",
        "if t == 1:\r\n",
        "  for i in range(0,len(series1)) :\r\n",
        "    nseries.append(series1[i]+series2[i])\r\n",
        "  for i in range(len(series1),len(series2)) :\r\n",
        "    nseries.append(series2[i])\r\n",
        "\r\n",
        "else :\r\n",
        "  for i in range(0,len(series2)) :\r\n",
        "    nseries.append(series1[i]+series2[i])\r\n",
        "  for i in range(len(series2),len(series1)) :\r\n",
        "    nseries.append(series1[i])\r\n",
        "  \r\n",
        "\r\n",
        "print(nseries)"
      ],
      "execution_count": 5,
      "outputs": [
        {
          "output_type": "stream",
          "text": [
            "[0, 2, 4, 6, 8, 10, 12, 14, 16, 18, 10, 11, 12, 13, 14, 15, 16, 17, 18, 19, 20, 21, 22, 23, 24, 25]\n"
          ],
          "name": "stdout"
        }
      ]
    },
    {
      "cell_type": "markdown",
      "metadata": {
        "id": "J5G5kI3epB5w"
      },
      "source": [
        "5) Using pandas, write a piece of code to convert the first character of each element in a\r\n",
        "series to uppercase. Test your code with:\r\n",
        "series = pd.Series(['nlp', 'will', 'be', 'easy?'])\r\n"
      ]
    },
    {
      "cell_type": "code",
      "metadata": {
        "colab": {
          "base_uri": "https://localhost:8080/"
        },
        "id": "tkrVXTW3pHU-",
        "outputId": "b2e651d3-6710-48e5-924a-ae217400cb6f"
      },
      "source": [
        "import numpy as np\r\n",
        "import pandas as pd\r\n",
        "\r\n",
        "series = pd.Series(['nlp','will','be','easy?'])\r\n",
        "\r\n",
        "nseries = series.map(lambda x: x[0].upper() + x[1:])\r\n",
        "\r\n",
        "print(nseries)"
      ],
      "execution_count": null,
      "outputs": [
        {
          "output_type": "stream",
          "text": [
            "0      Nlp\n",
            "1     Will\n",
            "2       Be\n",
            "3    Easy?\n",
            "dtype: object\n"
          ],
          "name": "stdout"
        }
      ]
    },
    {
      "cell_type": "markdown",
      "metadata": {
        "id": "uReelAKVOWqX"
      },
      "source": [
        "Bonus : "
      ]
    },
    {
      "cell_type": "code",
      "metadata": {
        "colab": {
          "base_uri": "https://localhost:8080/"
        },
        "id": "KNbd53sMUohQ",
        "outputId": "1f190599-dc4e-402a-f480-417d0b8ba7bf"
      },
      "source": [
        "import pandas as pd\r\n",
        "import numpy as np\r\n",
        "\r\n",
        "df = pd.DataFrame(np.random.randint(5, 10, 20).reshape(-1, 4), columns = list('abcd'))\r\n",
        "l =[]\r\n",
        "\r\n",
        "for i in df.columns:\r\n",
        "  l.extend(df[i])\r\n",
        "\r\n",
        "print(l)"
      ],
      "execution_count": null,
      "outputs": [
        {
          "output_type": "stream",
          "text": [
            "[8, 9, 6, 8, 9, 7, 9, 7, 6, 9, 6, 9, 6, 6, 8, 7, 6, 5, 9, 9]\n"
          ],
          "name": "stdout"
        }
      ]
    },
    {
      "cell_type": "code",
      "metadata": {
        "colab": {
          "base_uri": "https://localhost:8080/"
        },
        "id": "dOtBjUFudU7C",
        "outputId": "96680cbc-6c1d-45fb-9b4d-8b23031d84ee"
      },
      "source": [
        "frequency = {}\r\n",
        "\r\n",
        "for no in l :\r\n",
        "  if (no in frequency): frequency[no] +=1\r\n",
        "  else : frequency[no] = 1\r\n",
        "\r\n",
        "print(frequency)"
      ],
      "execution_count": null,
      "outputs": [
        {
          "output_type": "stream",
          "text": [
            "{8: 3, 9: 7, 6: 6, 7: 3, 5: 1}\n"
          ],
          "name": "stdout"
        }
      ]
    },
    {
      "cell_type": "code",
      "metadata": {
        "id": "dE31Dy0pdZYd"
      },
      "source": [
        ""
      ],
      "execution_count": null,
      "outputs": []
    }
  ]
}