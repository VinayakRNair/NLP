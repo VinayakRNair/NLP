{
  "nbformat": 4,
  "nbformat_minor": 0,
  "metadata": {
    "colab": {
      "name": "NLP _HW_1.ipynb",
      "provenance": [],
      "collapsed_sections": []
    },
    "kernelspec": {
      "name": "python3",
      "display_name": "Python 3"
    }
  },
  "cells": [
    {
      "cell_type": "markdown",
      "metadata": {
        "id": "0yYp3aAHNLNP"
      },
      "source": [
        "Name : Vinayak Renu Nair\r\n",
        "Panther ID : 002553736"
      ]
    },
    {
      "cell_type": "markdown",
      "metadata": {
        "id": "quZQeQN-b91A"
      },
      "source": [
        "1) Write a piece of code using a regular expression in Python to count how many times\r\n",
        "the following name appears: CICERO, this regex needs to be case-sensitive. "
      ]
    },
    {
      "cell_type": "code",
      "metadata": {
        "colab": {
          "base_uri": "https://localhost:8080/"
        },
        "id": "IPFxzHksb8mY",
        "outputId": "877b22b2-1b87-4776-980e-d19694f091ba"
      },
      "source": [
        "import re\r\n",
        "text = open(\"hw_1-text.txt\", \"r\").read()\r\n",
        "ans = re.findall(r'\\bCICERO\\b',text)\r\n",
        "\r\n",
        "c= 0\r\n",
        "for i in ans :\r\n",
        "  c += 1\r\n",
        "\r\n",
        "print(\"The number of times the word appears : \",c)"
      ],
      "execution_count": null,
      "outputs": [
        {
          "output_type": "stream",
          "text": [
            "The number of times the word appears :  7\n"
          ],
          "name": "stdout"
        }
      ]
    },
    {
      "cell_type": "markdown",
      "metadata": {
        "id": "YBbkKfmqelpV"
      },
      "source": [
        "3) Write a piece of code that uses a regular expression in Python to count how many\r\n",
        "words are capitalized in the first letter only."
      ]
    },
    {
      "cell_type": "code",
      "metadata": {
        "colab": {
          "base_uri": "https://localhost:8080/"
        },
        "id": "KssiWvCVeTAT",
        "outputId": "86a94d1a-01d0-47b3-8ac6-9cbae2d5b461"
      },
      "source": [
        "import re\r\n",
        "text = open(\"hw_1-text.txt\", \"r\").read()\r\n",
        "ans = re.findall(r'\\b[A-Z][a-z]*\\b', text, re.M)\r\n",
        "c = 0\r\n",
        "for i in ans:\r\n",
        "    c+=1\r\n",
        "\r\n",
        "print(ans)\r\n",
        "print('total number of first letter only capitalized words are:',c)"
      ],
      "execution_count": null,
      "outputs": [
        {
          "output_type": "stream",
          "text": [
            "['The', 'Life', 'Death', 'Julius', 'Caesar', 'I', 'I', 'Rome', 'A', 'Enter', 'Commoners', 'Hence', 'Is', 'Being', 'Upon', 'Of', 'Speak', 'First', 'Commoner', 'Why', 'Where', 'What', 'You', 'Second', 'Commoner', 'Truly', 'I', 'But', 'Second', 'Commoner', 'A', 'I', 'I', 'What', 'Second', 'Commoner', 'Nay', 'I', 'I', 'What', 'Second', 'Commoner', 'Why', 'Thou', 'Second', 'Commoner', 'Truly', 'I', 'I', 'I', 'I', 'As', 'But', 'Why', 'Second', 'Commoner', 'Truly', 'But', 'Caesar', 'Wherefore', 'What', 'What', 'Rome', 'To', 'You', 'O', 'Rome', 'Knew', 'Pompey', 'Many', 'Have', 'To', 'Your', 'The', 'To', 'Pompey', 'Rome', 'And', 'Have', 'That', 'Tiber', 'To', 'Made', 'And', 'And', 'And', 'That', 'Pompey', 'Be', 'Run', 'Pray', 'That', 'Go', 'Assemble', 'Draw', 'Tiber', 'Into', 'Do', 'Exeunt', 'Commoners', 'See', 'They', 'Go', 'Capitol', 'This', 'I', 'If', 'May', 'You', 'Lupercal', 'It', 'Be', 'Caesar', 'I', 'And', 'So', 'These', 'Caesar', 'Will', 'Who', 'And', 'Exeunt', 'A', 'Flourish', 'Enter', 'Soothsayer', 'Calpurnia', 'Peace', 'Caesar', 'Calpurnia', 'Here', 'Stand', 'Antonius', 'When', 'Antonius', 'Caesar', 'Forget', 'Antonius', 'To', 'Calpurnia', 'The', 'Shake', 'I', 'When', 'Caesar', 'Set', 'Flourish', 'Soothsayer', 'Caesar', 'Ha', 'Bid', 'Who', 'I', 'Cry', 'Caesar', 'Speak', 'Caesar', 'Soothsayer', 'Beware', 'March', 'What', 'A', 'March', 'Set', 'Fellow', 'Caesar', 'What', 'Soothsayer', 'Beware', 'March', 'He', 'Sennet', 'Exeunt', 'Will', 'Not', 'I', 'I', 'I', 'I', 'Of', 'Antony', 'Let', 'Cassius', 'I', 'Brutus', 'I', 'I', 'And', 'I', 'You', 'Over', 'Cassius', 'Be', 'I', 'I', 'Merely', 'Vexed', 'I', 'Of', 'Conceptions', 'Which', 'But', 'Among', 'Cassius', 'Nor', 'Than', 'Brutus', 'Forgets', 'Then', 'Brutus', 'I', 'By', 'Thoughts', 'Tell', 'Brutus', 'No', 'Cassius', 'But', 'Tis', 'And', 'Brutus', 'That', 'Your', 'That', 'I', 'Where', 'Rome', 'Except', 'Caesar', 'Brutus', 'And', 'Have', 'Brutus', 'Into', 'Cassius', 'That', 'For', 'Therefore', 'Brutus', 'And', 'So', 'I', 'Will', 'That', 'And', 'Brutus', 'Were', 'I', 'To', 'To', 'That', 'I', 'And', 'That', 'I', 'To', 'Flourish', 'What', 'I', 'Choose', 'Caesar', 'Ay', 'Then', 'I', 'I', 'Cassius', 'I', 'But', 'What', 'If', 'Set', 'And', 'I', 'For', 'I', 'The', 'I', 'I', 'Brutus', 'As', 'I', 'Well', 'I', 'Think', 'I', 'In', 'I', 'I', 'Caesar', 'We', 'Endure', 'For', 'The', 'Tiber', 'Caesar', 'Darest', 'Cassius', 'Leap', 'And', 'Upon', 'Accoutred', 'I', 'I', 'And', 'The', 'With', 'And', 'But', 'Caesar', 'Help', 'Cassius', 'I', 'I', 'Aeneas', 'Did', 'Troy', 'The', 'Anchises', 'Tiber', 'Did', 'I', 'Caesar', 'And', 'Is', 'Cassius', 'A', 'If', 'Caesar', 'He', 'Spain', 'And', 'I', 'How', 'His', 'And', 'Did', 'I', 'Ay', 'Romans', 'Mark', 'Alas', 'Give', 'Titinius', 'As', 'Ye', 'A', 'So', 'And', 'Shout', 'Flourish', 'Another', 'I', 'For', 'Caesar', 'Why', 'Like', 'Colossus', 'Walk', 'To', 'Men', 'The', 'Brutus', 'But', 'Brutus', 'Caesar', 'Caesar', 'Why', 'Write', 'Sound', 'Weigh', 'Brutus', 'Caesar', 'Now', 'Upon', 'Caesar', 'That', 'Age', 'Rome', 'When', 'But', 'When', 'Rome', 'That', 'Now', 'Rome', 'When', 'O', 'I', 'There', 'Brutus', 'The', 'Rome', 'As', 'That', 'I', 'What', 'I', 'How', 'I', 'I', 'I', 'I', 'Be', 'What', 'I', 'I', 'Both', 'Till', 'Brutus', 'Than', 'Rome', 'Under', 'Is', 'I', 'Have', 'Brutus', 'The', 'Caesar', 'As', 'Casca', 'And', 'What', 'Re', 'Train', 'I', 'But', 'Cassius', 'The', 'Caesar', 'And', 'Calpurnia', 'Cicero', 'Looks', 'As', 'Capitol', 'Being', 'Casca', 'Antonius', 'Caesar', 'Let', 'Sleek', 'Yond', 'Cassius', 'He', 'Fear', 'Caesar', 'He', 'Roman', 'Would', 'But', 'I', 'Yet', 'I', 'I', 'So', 'Cassius', 'He', 'He', 'Quite', 'As', 'Antony', 'Seldom', 'As', 'That', 'Such', 'Whiles', 'And', 'I', 'Than', 'I', 'I', 'Caesar', 'Come', 'And', 'Sennet', 'Exeunt', 'Train', 'You', 'Ay', 'Casca', 'That', 'Caesar', 'Why', 'I', 'Casca', 'Why', 'What', 'Why', 'They', 'Why', 'Was', 'Ay', 'Who', 'Why', 'Antony', 'Tell', 'Casca', 'I', 'I', 'I', 'Mark', 'Antony', 'I', 'Then', 'And', 'Caesar', 'Caesar', 'I', 'But', 'I', 'Caesar', 'He', 'Tis', 'No', 'Caesar', 'I', 'And', 'Casca', 'I', 'I', 'Caesar', 'If', 'I', 'What', 'Marry', 'An', 'I', 'I', 'I', 'I', 'And', 'When', 'If', 'Three', 'I', 'Alas', 'Caesar', 'And', 'Ay', 'Did', 'Cicero', 'Ay', 'Greek', 'To', 'Nay', 'I', 'Ill', 'Greek', 'I', 'Marullus', 'Flavius', 'Caesar', 'Fare', 'There', 'I', 'Will', 'Casca', 'No', 'I', 'Will', 'Ay', 'I', 'Good', 'I', 'Do', 'Farewell', 'Exit', 'What', 'He', 'So', 'Of', 'However', 'This', 'Which', 'With', 'And', 'For', 'I', 'To', 'I', 'Come', 'I', 'I', 'Exit', 'Well', 'Brutus', 'I', 'Thy', 'From', 'That', 'For', 'Caesar', 'Brutus', 'If', 'I', 'Brutus', 'Cassius', 'He', 'I', 'In', 'As', 'Writings', 'That', 'Rome', 'Caesar', 'And', 'Caesar', 'For', 'Exit', 'The', 'A', 'Thunder', 'Enter', 'Good', 'Casca', 'Caesar', 'Why', 'Are', 'Shakes', 'O', 'Cicero', 'I', 'Have', 'I', 'The', 'To', 'But', 'Did', 'I', 'Either', 'Or', 'Incenses', 'Why', 'A', 'Held', 'Like', 'Not', 'Besides', 'I', 'Against', 'Capitol', 'I', 'Who', 'Without', 'Upon', 'Transformed', 'Men', 'And', 'Even', 'Hooting', 'When', 'Do', 'These', 'For', 'I', 'Unto', 'Indeed', 'But', 'Clean', 'Come', 'Caesar', 'Capitol', 'He', 'Antonius', 'Send', 'Good', 'Casca', 'Is', 'Farewell', 'Cicero', 'Exit', 'Enter', 'Who', 'A', 'Roman', 'Casca', 'Your', 'Cassius', 'A', 'Who', 'Those', 'For', 'I', 'Submitting', 'And', 'Casca', 'Have', 'And', 'The', 'I', 'Even', 'But', 'It', 'When', 'Such', 'You', 'Casca', 'That', 'Roman', 'Or', 'You', 'And', 'To', 'But', 'Why', 'Why', 'Why', 'Why', 'Their', 'To', 'That', 'To', 'Unto', 'Now', 'I', 'Casca', 'Most', 'That', 'As', 'Capitol', 'A', 'In', 'And', 'Tis', 'Caesar', 'Cassius', 'Let', 'Romans', 'Have', 'But', 'And', 'Our', 'Indeed', 'Mean', 'Caesar', 'And', 'In', 'Italy', 'I', 'I', 'Cassius', 'Cassius', 'Therein', 'Therein', 'Nor', 'Nor', 'Can', 'But', 'Never', 'If', 'I', 'That', 'I', 'I', 'Thunder', 'So', 'I', 'So', 'The', 'And', 'Caesar', 'Poor', 'I', 'But', 'Romans', 'He', 'Romans', 'Those', 'Begin', 'Rome', 'What', 'For', 'So', 'Caesar', 'But', 'O', 'Where', 'I', 'Before', 'I', 'My', 'But', 'I', 'And', 'You', 'Casca', 'That', 'Hold', 'Be', 'And', 'I', 'As', 'There', 'Now', 'Casca', 'I', 'Some', 'Romans', 'To', 'Of', 'And', 'I', 'In', 'Pompey', 'There', 'And', 'In', 'Most', 'Stand', 'Tis', 'Cinna', 'I', 'He', 'Enter', 'Cinna', 'To', 'Who', 'Metellus', 'Cimber', 'No', 'Casca', 'To', 'Am', 'I', 'Cinna', 'I', 'What', 'There', 'Am', 'I', 'Yes', 'O', 'Cassius', 'But', 'Brutus', 'Be', 'Cinna', 'And', 'Where', 'Brutus', 'In', 'Upon', 'Brutus', 'Repair', 'Pompey', 'Is', 'Decius', 'Brutus', 'Trebonius', 'All', 'Metellus', 'Cimber', 'To', 'Well', 'I', 'And', 'That', 'Pompey', 'Exit', 'Come', 'Casca', 'I', 'See', 'Brutus', 'Is', 'Upon', 'O', 'And', 'His', 'Will', 'Him', 'You', 'Let', 'For', 'We', 'Exeunt', 'I', 'Rome', 'Enter', 'What', 'Lucius', 'I', 'Give', 'Lucius', 'I', 'I', 'When', 'Lucius', 'I', 'Lucius', 'Enter', 'Call', 'Get', 'Lucius', 'When', 'I', 'Exit', 'It', 'I', 'But', 'He', 'How', 'It', 'And', 'Crown', 'And', 'I', 'That', 'The', 'Remorse', 'Caesar', 'I', 'More', 'But', 'That', 'Whereto', 'But', 'He', 'Looks', 'By', 'So', 'Caesar', 'Then', 'And', 'Will', 'Fashion', 'Would', 'And', 'Which', 'And', 'Re', 'The', 'Searching', 'I', 'This', 'I', 'It', 'I', 'Gives', 'Get', 'Is', 'March', 'I', 'Look', 'I', 'Exit', 'The', 'Give', 'I', 'Opens', 'Brutus', 'Shall', 'Rome', 'Speak', 'Brutus', 'Such', 'Where', 'I', 'Shall', 'Rome', 'Thus', 'I', 'Shall', 'Rome', 'What', 'Rome', 'My', 'Rome', 'The', 'Tarquin', 'Speak', 'Am', 'I', 'To', 'O', 'Rome', 'I', 'If', 'Thy', 'Brutus', 'Re', 'Sir', 'March', 'Knocking', 'Tis', 'Go', 'Exit', 'Since', 'Cassius', 'Caesar', 'I', 'Between', 'And', 'Like', 'The', 'Genius', 'Are', 'Like', 'The', 'Re', 'Sir', 'Cassius', 'Who', 'Is', 'No', 'Do', 'No', 'And', 'That', 'I', 'By', 'Let', 'Exit', 'They', 'O', 'Shamest', 'When', 'O', 'Where', 'To', 'Seek', 'Hide', 'For', 'Not', 'Erebus', 'To', 'Enter', 'I', 'Good', 'Brutus', 'I', 'Know', 'I', 'Yes', 'But', 'You', 'Which', 'Roman', 'This', 'Trebonius', 'He', 'This', 'Decius', 'Brutus', 'He', 'This', 'Casca', 'Cinna', 'Metellus', 'Cimber', 'They', 'What', 'Betwixt', 'Shall', 'I', 'Here', 'No', 'O', 'That', 'You', 'Here', 'I', 'Which', 'Weighing', 'Some', 'He', 'Stands', 'Capitol', 'Give', 'And', 'No', 'The', 'If', 'And', 'So', 'Till', 'But', 'As', 'I', 'To', 'The', 'What', 'To', 'Than', 'Romans', 'And', 'Than', 'That', 'Swear', 'Old', 'That', 'Such', 'The', 'Nor', 'To', 'Did', 'That', 'Roman', 'Is', 'If', 'Of', 'But', 'Cicero', 'I', 'Let', 'No', 'O', 'Will', 'And', 'It', 'Our', 'But', 'O', 'For', 'That', 'Then', 'Indeed', 'Shall', 'Caesar', 'Decius', 'I', 'Mark', 'Antony', 'Caesar', 'Should', 'Caesar', 'A', 'If', 'As', 'Let', 'Antony', 'Caesar', 'Our', 'Caius', 'Cassius', 'To', 'Like', 'For', 'Antony', 'Caesar', 'Let', 'Caius', 'We', 'Caesar', 'And', 'O', 'Caesar', 'And', 'Caesar', 'But', 'Caesar', 'And', 'Let', 'Let', 'Not', 'And', 'Stir', 'And', 'This', 'Our', 'Which', 'We', 'And', 'Mark', 'Antony', 'For', 'Caesar', 'When', 'Caesar', 'Yet', 'I', 'For', 'Caesar', 'Alas', 'Cassius', 'If', 'Caesar', 'Is', 'Caesar', 'And', 'To', 'There', 'For', 'Clock', 'Peace', 'The', 'Tis', 'But', 'Whether', 'Caesar', 'For', 'Quite', 'Of', 'It', 'The', 'And', 'May', 'Capitol', 'Never', 'I', 'That', 'And', 'Lions', 'But', 'I', 'He', 'Let', 'For', 'I', 'And', 'I', 'Capitol', 'Nay', 'By', 'Be', 'Caius', 'Ligarius', 'Caesar', 'Who', 'Pompey', 'I', 'Now', 'Metellus', 'He', 'I', 'Send', 'I', 'The', 'Brutus', 'And', 'What', 'Romans', 'Good', 'Let', 'But', 'Roman', 'With', 'And', 'Exeunt', 'Boy', 'Lucius', 'Fast', 'It', 'Enjoy', 'Thou', 'Which', 'Therefore', 'Enter', 'Brutus', 'Portia', 'It', 'Your', 'Nor', 'You', 'Brutus', 'Stole', 'You', 'Musing', 'And', 'I', 'You', 'I', 'And', 'Yet', 'I', 'But', 'Gave', 'I', 'Fearing', 'Which', 'Hoping', 'Which', 'It', 'And', 'As', 'I', 'Brutus', 'Dear', 'Make', 'I', 'Brutus', 'He', 'Why', 'I', 'Good', 'Portia', 'Is', 'Brutus', 'To', 'Of', 'What', 'Brutus', 'And', 'To', 'And', 'To', 'No', 'Brutus', 'You', 'Which', 'I', 'I', 'By', 'Which', 'That', 'Why', 'Have', 'Some', 'Even', 'Kneel', 'Portia', 'I', 'Brutus', 'Within', 'Brutus', 'Is', 'I', 'That', 'Am', 'I', 'But', 'To', 'And', 'Dwell', 'I', 'Of', 'If', 'Portia', 'Brutus', 'You', 'As', 'That', 'If', 'I', 'I', 'I', 'A', 'Lord', 'Brutus', 'I', 'I', 'A', 'Cato', 'Think', 'I', 'Being', 'Tell', 'I', 'I', 'Giving', 'Here', 'I', 'And', 'O', 'Render', 'Knocking', 'Hark', 'Portia', 'And', 'The', 'All', 'I', 'All', 'Leave', 'Exit', 'Lucius', 'Re', 'He', 'Caius', 'Ligarius', 'Metellus', 'Boy', 'Caius', 'Ligarius', 'Vouchsafe', 'O', 'Caius', 'To', 'Would', 'I', 'Brutus', 'Any', 'Such', 'I', 'Ligarius', 'Had', 'By', 'Romans', 'I', 'Soul', 'Rome', 'Brave', 'Thou', 'My', 'Now', 'And', 'I', 'Yea', 'What', 'A', 'But', 'That', 'What', 'Caius', 'I', 'To', 'Set', 'And', 'I', 'To', 'I', 'That', 'Brutus', 'Follow', 'Exeunt', 'Thunder', 'Enter', 'Nor', 'Thrice', 'Calpurnia', 'Help', 'Caesar', 'Who', 'Enter', 'Servant', 'Servant', 'My', 'Go', 'And', 'Servant', 'I', 'Exit', 'Enter', 'What', 'Caesar', 'You', 'Caesar', 'Ne', 'The', 'Caesar', 'Caesar', 'I', 'Yet', 'There', 'Besides', 'Recounts', 'A', 'And', 'Fierce', 'In', 'Which', 'Capitol', 'The', 'Horses', 'And', 'O', 'Caesar', 'And', 'I', 'What', 'Whose', 'Yet', 'Caesar', 'Are', 'Caesar', 'When', 'The', 'Cowards', 'The', 'Of', 'I', 'It', 'Seeing', 'Will', 'Re', 'Servant', 'What', 'Servant', 'They', 'Plucking', 'They', 'The', 'Caesar', 'If', 'No', 'Caesar', 'That', 'Caesar', 'We', 'And', 'I', 'And', 'Caesar', 'Alas', 'Your', 'Do', 'That', 'We', 'Mark', 'Antony', 'And', 'Let', 'Mark', 'Antony', 'I', 'And', 'I', 'Enter', 'Here', 'Decius', 'Brutus', 'Caesar', 'Caesar', 'I', 'And', 'To', 'And', 'I', 'Cannot', 'I', 'I', 'Decius', 'Say', 'Shall', 'Caesar', 'Have', 'I', 'To', 'Decius', 'Caesar', 'Most', 'Caesar', 'Lest', 'I', 'I', 'The', 'I', 'That', 'But', 'Because', 'I', 'I', 'Calpurnia', 'She', 'Which', 'Did', 'Romans', 'Came', 'And', 'And', 'Hath', 'I', 'This', 'It', 'Your', 'In', 'Romans', 'Signifies', 'Rome', 'Reviving', 'For', 'This', 'Calpurnia', 'And', 'I', 'I', 'And', 'To', 'Caesar', 'If', 'Their', 'Besides', 'Apt', 'Break', 'When', 'Caesar', 'If', 'Caesar', 'Lo', 'Caesar', 'Pardon', 'Caesar', 'To', 'And', 'How', 'Calpurnia', 'I', 'I', 'Give', 'I', 'Enter', 'And', 'Publius', 'Good', 'Caesar', 'Welcome', 'Publius', 'What', 'Brutus', 'Good', 'Casca', 'Caius', 'Ligarius', 'Caesar', 'As', 'What', 'Caesar', 'I', 'Enter', 'See', 'Antony', 'Is', 'Good', 'Antony', 'So', 'Caesar', 'Bid', 'I', 'Now', 'Cinna', 'Metellus', 'Trebonius', 'I', 'Remember', 'Be', 'I', 'Caesar', 'I', 'Aside', 'I', 'That', 'I', 'Good', 'And', 'Aside', 'That', 'O', 'Caesar', 'The', 'Brutus', 'Exeunt', 'A', 'Capitol', 'Enter', 'Caesar', 'Brutus', 'Cassius', 'Casca', 'Cinna', 'Trebonius', 'Metellus', 'Cimber', 'Decius', 'Brutus', 'Caius', 'Ligarius', 'There', 'Caesar', 'If', 'The', 'Thy', 'Here', 'I', 'Caesar', 'And', 'I', 'My', 'Out', 'If', 'O', 'Caesar', 'If', 'Fates', 'Exit', 'Another', 'Enter', 'I', 'Stay', 'Why', 'To', 'I', 'Ere', 'I', 'O', 'Set', 'I', 'How', 'Art', 'Madam', 'I', 'Run', 'Capitol', 'And', 'Yes', 'For', 'What', 'Caesar', 'Hark', 'I', 'Prithee', 'I', 'And', 'Capitol', 'Sooth', 'I', 'Enter', 'Soothsayer', 'Come', 'Soothsayer', 'At', 'What', 'Soothsayer', 'About', 'Is', 'Caesar', 'Capitol', 'Soothsayer', 'Madam', 'I', 'To', 'Capitol', 'Thou', 'Caesar', 'Soothsayer', 'That', 'I', 'Caesar', 'To', 'Caesar', 'I', 'Why', 'Soothsayer', 'None', 'I', 'I', 'Good', 'Here', 'The', 'Caesar', 'Of', 'Will', 'I', 'Speak', 'Caesar', 'Exit', 'I', 'Ay', 'The', 'O', 'Brutus', 'The', 'Sure', 'Brutus', 'That', 'Caesar', 'O', 'I', 'Run', 'Lucius', 'Say', 'I', 'And', 'Exeunt', 'I', 'Rome', 'Before', 'Capitol', 'Senate', 'A', 'Soothsayer', 'Flourish', 'Enter', 'To', 'Soothsayer', 'The', 'March', 'Soothsayer', 'Ay', 'Caesar', 'Hail', 'Caesar', 'Trebonius', 'At', 'O', 'Caesar', 'That', 'Caesar', 'Caesar', 'What', 'Delay', 'Caesar', 'What', 'Sirrah', 'What', 'Come', 'Capitol', 'Senate', 'House', 'I', 'What', 'Popilius', 'Fare', 'Advances', 'What', 'Popilius', 'Lena', 'He', 'I', 'Look', 'Caesar', 'Casca', 'Brutus', 'If', 'Cassius', 'Caesar', 'For', 'I', 'Cassius', 'Popilius', 'Lena', 'For', 'Caesar', 'Trebonius', 'Brutus', 'He', 'Mark', 'Antony', 'Exeunt', 'Where', 'Metellus', 'Cimber', 'Let', 'And', 'Caesar', 'He', 'Casca', 'Are', 'What', 'That', 'Caesar', 'Most', 'Caesar', 'Metellus', 'Cimber', 'An', 'Kneeling', 'I', 'Cimber', 'These', 'Might', 'And', 'Into', 'Be', 'To', 'Caesar', 'That', 'With', 'I', 'Low', 'Thy', 'If', 'I', 'Know', 'Caesar', 'Will', 'Is', 'To', 'Caesar', 'For', 'I', 'Caesar', 'Desiring', 'Publius', 'Cimber', 'Have', 'What', 'Brutus', 'Pardon', 'Caesar', 'Caesar', 'As', 'Cassius', 'To', 'Publius', 'Cimber', 'I', 'I', 'If', 'I', 'But', 'I', 'Of', 'There', 'The', 'They', 'But', 'So', 'And', 'Yet', 'I', 'That', 'Unshaked', 'I', 'Let', 'That', 'I', 'Cimber', 'And', 'O', 'Caesar', 'Hence', 'Olympus', 'Great', 'Caesar', 'Doth', 'Brutus', 'Speak', 'Conspirators', 'Et', 'Brute', 'Then', 'Caesar', 'Dies', 'Liberty', 'Freedom', 'Tyranny', 'Run', 'Some', 'Liberty', 'People', 'Fly', 'Go', 'Brutus', 'And', 'Cassius', 'Where', 'Publius', 'Here', 'Stand', 'Caesar', 'Should', 'Talk', 'Publius', 'There', 'Nor', 'Roman', 'Publius', 'And', 'Publius', 'Rushing', 'Do', 'But', 'Re', 'Where', 'Antony', 'Fled', 'Men', 'As', 'Fates', 'That', 'And', 'Why', 'Cuts', 'Grant', 'So', 'Caesar', 'His', 'Stoop', 'Romans', 'And', 'Caesar', 'Up', 'Then', 'And', 'Let', 'Peace', 'Stoop', 'How', 'Shall', 'In', 'How', 'Caesar', 'That', 'Pompey', 'No', 'So', 'So', 'The', 'What', 'Ay', 'Brutus', 'With', 'Rome', 'Enter', 'Servant', 'Soft', 'A', 'Antony', 'Servant', 'Thus', 'Brutus', 'Thus', 'Mark', 'Antony', 'And', 'Brutus', 'Caesar', 'Say', 'I', 'Brutus', 'I', 'Say', 'I', 'Caesar', 'If', 'Brutus', 'Antony', 'May', 'How', 'Caesar', 'Mark', 'Antony', 'Caesar', 'So', 'Brutus', 'The', 'Brutus', 'Thorough', 'With', 'So', 'Antony', 'Thy', 'Roman', 'I', 'Tell', 'He', 'Depart', 'Servant', 'I', 'Exit', 'I', 'I', 'I', 'That', 'Falls', 'But', 'Antony', 'Re', 'Welcome', 'Mark', 'Antony', 'O', 'Caesar', 'Are', 'Shrunk', 'Fare', 'I', 'Who', 'If', 'I', 'As', 'Caesar', 'Of', 'With', 'I', 'Now', 'Fulfil', 'Live', 'I', 'No', 'As', 'Caesar', 'The', 'O', 'Antony', 'Though', 'As', 'You', 'And', 'Our', 'And', 'Rome', 'As', 'Hath', 'Caesar', 'For', 'To', 'Mark', 'Antony', 'Our', 'Of', 'With', 'Your', 'In', 'Only', 'The', 'And', 'Why', 'I', 'Caesar', 'I', 'Have', 'I', 'Let', 'First', 'Marcus', 'Brutus', 'I', 'Next', 'Caius', 'Cassius', 'I', 'Now', 'Decius', 'Brutus', 'Metellus', 'Yours', 'Cinna', 'Casca', 'Though', 'Trebonius', 'Gentlemen', 'I', 'My', 'That', 'Either', 'That', 'I', 'Caesar', 'O', 'If', 'Shall', 'To', 'Anthony', 'Shaking', 'Most', 'Had', 'I', 'Weeping', 'It', 'In', 'Pardon', 'Julius', 'Here', 'Here', 'Sign', 'O', 'And', 'O', 'How', 'Dost', 'Mark', 'Antony', 'Pardon', 'Caius', 'Cassius', 'The', 'Caesar', 'Then', 'I', 'Caesar', 'But', 'Will', 'Or', 'Therefore', 'I', 'Sway', 'Caesar', 'Friends', 'I', 'Upon', 'Why', 'Caesar', 'Or', 'Our', 'That', 'Antony', 'Caesar', 'You', 'That', 'I', 'And', 'I', 'Produce', 'And', 'Speak', 'You', 'Mark', 'Antony', 'Brutus', 'Aside', 'You', 'That', 'Antony', 'Know', 'By', 'By', 'I', 'And', 'Caesar', 'What', 'Antony', 'I', 'He', 'And', 'Caesar', 'Have', 'It', 'I', 'I', 'Mark', 'Antony', 'Caesar', 'You', 'But', 'Caesar', 'And', 'Else', 'About', 'In', 'I', 'After', 'Be', 'I', 'Prepare', 'Exeunt', 'O', 'That', 'I', 'Thou', 'That', 'Woe', 'Over', 'I', 'Which', 'To', 'A', 'Domestic', 'Shall', 'Italy', 'Blood', 'And', 'That', 'Their', 'All', 'And', 'Caesar', 'With', 'Ate', 'Shall', 'Cry', 'Havoc', 'That', 'With', 'Enter', 'Servant', 'You', 'Octavius', 'Caesar', 'Servant', 'I', 'Mark', 'Antony', 'Caesar', 'Rome', 'Servant', 'He', 'And', 'O', 'Caesar', 'Seeing', 'Thy', 'Passion', 'I', 'Seeing', 'Began', 'Is', 'Servant', 'He', 'Rome', 'Post', 'Here', 'Rome', 'Rome', 'No', 'Rome', 'Octavius', 'Hie', 'Yet', 'Thou', 'I', 'Into', 'I', 'In', 'The', 'According', 'To', 'Octavius', 'Lend', 'Exeunt', 'The', 'Forum', 'Enter', 'Citizens', 'Citizens', 'We', 'Then', 'Cassius', 'And', 'Those', 'Those', 'Cassius', 'And', 'Of', 'Caesar', 'First', 'Citizen', 'I', 'Brutus', 'Second', 'Citizen', 'I', 'Cassius', 'When', 'Exit', 'Citizens', 'Third', 'Citizen', 'The', 'Brutus', 'Be', 'Romans', 'If', 'Caesar', 'I', 'Brutus', 'Caesar', 'If', 'Brutus', 'Caesar', 'Not', 'I', 'Caesar', 'I', 'Rome', 'Had', 'Caesar', 'Caesar', 'As', 'Caesar', 'I', 'I', 'I', 'I', 'There', 'Who', 'If', 'I', 'Who', 'Roman', 'If', 'I', 'Who', 'If', 'I', 'I', 'All', 'None', 'Brutus', 'Then', 'I', 'I', 'Caesar', 'Brutus', 'The', 'Capitol', 'Enter', 'Here', 'Mark', 'Antony', 'With', 'I', 'I', 'Rome', 'I', 'All', 'Live', 'Brutus', 'First', 'Citizen', 'Bring', 'Second', 'Citizen', 'Give', 'Third', 'Citizen', 'Let', 'Caesar', 'Fourth', 'Citizen', 'Caesar', 'Shall', 'Brutus', 'First', 'Citizen', 'We', 'With', 'My', 'Second', 'Citizen', 'Peace', 'Brutus', 'First', 'Citizen', 'Peace', 'Good', 'And', 'Antony', 'Do', 'Caesar', 'Tending', 'Caesar', 'Mark', 'Antony', 'By', 'I', 'Save', 'I', 'Antony', 'Exit', 'First', 'Citizen', 'Stay', 'Mark', 'Antony', 'Third', 'Citizen', 'Let', 'We', 'Noble', 'Antony', 'For', 'Brutus', 'I', 'Goes', 'Fourth', 'Citizen', 'What', 'Brutus', 'Third', 'Citizen', 'He', 'Brutus', 'He', 'Fourth', 'Citizen', 'Twere', 'Brutus', 'First', 'Citizen', 'This', 'Caesar', 'Third', 'Citizen', 'Nay', 'We', 'Rome', 'Second', 'Citizen', 'Peace', 'Antony', 'You', 'Romans', 'Citizens', 'Peace', 'Friends', 'Romans', 'I', 'Caesar', 'The', 'The', 'So', 'Caesar', 'The', 'Brutus', 'Hath', 'Caesar', 'If', 'And', 'Caesar', 'Here', 'Brutus', 'For', 'Brutus', 'So', 'Come', 'I', 'Caesar', 'He', 'But', 'Brutus', 'And', 'Brutus', 'He', 'Rome', 'Whose', 'Did', 'Caesar', 'When', 'Caesar', 'Ambition', 'Yet', 'Brutus', 'And', 'Brutus', 'You', 'Lupercal', 'I', 'Which', 'Yet', 'Brutus', 'And', 'I', 'Brutus', 'But', 'I', 'I', 'You', 'What', 'O', 'And', 'Bear', 'My', 'Caesar', 'And', 'I', 'First', 'Citizen', 'Methinks', 'Second', 'Citizen', 'If', 'Caesar', 'Third', 'Citizen', 'Has', 'I', 'Fourth', 'Citizen', 'Mark', 'He', 'Therefore', 'First', 'Citizen', 'If', 'Second', 'Citizen', 'Poor', 'Third', 'Citizen', 'There', 'Rome', 'Antony', 'Fourth', 'Citizen', 'Now', 'But', 'Caesar', 'Have', 'And', 'O', 'I', 'Your', 'I', 'Brutus', 'Cassius', 'Who', 'I', 'I', 'To', 'Than', 'I', 'But', 'Caesar', 'I', 'Let', 'Which', 'I', 'And', 'Caesar', 'And', 'Yea', 'And', 'Bequeathing', 'Unto', 'Fourth', 'Citizen', 'We', 'Mark', 'Antony', 'All', 'The', 'Caesar', 'Have', 'I', 'It', 'Caesar', 'You', 'And', 'Caesar', 'It', 'Tis', 'For', 'O', 'Fourth', 'Citizen', 'Read', 'Antony', 'You', 'Caesar', 'Will', 'I', 'I', 'I', 'Whose', 'Caesar', 'I', 'Fourth', 'Citizen', 'They', 'All', 'The', 'Second', 'Citizen', 'They', 'You', 'Then', 'Caesar', 'And', 'Shall', 'I', 'Several', 'Citizens', 'Come', 'Second', 'Citizen', 'Descend', 'Third', 'Citizen', 'You', 'Fourth', 'Citizen', 'A', 'First', 'Citizen', 'Stand', 'Second', 'Citizen', 'Room', 'Antony', 'Antony', 'Nay', 'Several', 'Citizens', 'Stand', 'If', 'You', 'I', 'The', 'Caesar', 'Twas', 'That', 'Nervii', 'Look', 'Cassius', 'See', 'Casca', 'Through', 'Brutus', 'And', 'Mark', 'Caesar', 'As', 'If', 'Brutus', 'For', 'Brutus', 'Caesar', 'Judge', 'O', 'Caesar', 'This', 'For', 'Caesar', 'Ingratitude', 'Quite', 'And', 'Even', 'Pompey', 'Which', 'Caesar', 'O', 'Then', 'I', 'Whilst', 'O', 'I', 'The', 'Kind', 'Our', 'Caesar', 'Look', 'Here', 'First', 'Citizen', 'O', 'Second', 'Citizen', 'O', 'Caesar', 'Third', 'Citizen', 'O', 'Fourth', 'Citizen', 'O', 'First', 'Citizen', 'O', 'Second', 'Citizen', 'We', 'All', 'Revenge', 'About', 'Seek', 'Burn', 'Fire', 'Kill', 'Slay', 'Let', 'Stay', 'First', 'Citizen', 'Peace', 'Antony', 'Second', 'Citizen', 'We', 'Good', 'To', 'They', 'What', 'I', 'That', 'And', 'I', 'I', 'Brutus', 'But', 'That', 'That', 'For', 'I', 'Action', 'To', 'I', 'I', 'Show', 'Caesar', 'And', 'I', 'Brutus', 'And', 'Brutus', 'Antony', 'Antony', 'Would', 'In', 'Caesar', 'The', 'Rome', 'All', 'We', 'First', 'Citizen', 'We', 'Brutus', 'Third', 'Citizen', 'Away', 'Yet', 'All', 'Peace', 'Hear', 'Antony', 'Most', 'Antony', 'Why', 'Wherein', 'Caesar', 'Alas', 'I', 'You', 'I', 'All', 'Most', 'The', 'Let', 'Here', 'Caesar', 'To', 'Roman', 'To', 'Second', 'Citizen', 'Most', 'Caesar', 'We', 'Third', 'Citizen', 'O', 'Caesar', 'Hear', 'All', 'Peace', 'Moreover', 'His', 'On', 'Tiber', 'And', 'To', 'Here', 'Caesar', 'First', 'Citizen', 'Never', 'Come', 'We', 'And', 'Take', 'Second', 'Citizen', 'Go', 'Third', 'Citizen', 'Pluck', 'Fourth', 'Citizen', 'Pluck', 'Exeunt', 'Citizens', 'Now', 'Mischief', 'Take', 'Enter', 'Servant', 'How', 'Servant', 'Sir', 'Octavius', 'Rome', 'Where', 'Servant', 'He', 'Lepidus', 'Caesar', 'And', 'I', 'He', 'Fortune', 'And', 'Servant', 'I', 'Brutus', 'Cassius', 'Are', 'Rome', 'Belike', 'How', 'I', 'Bring', 'Octavius', 'Exeunt', 'A', 'Enter', 'I', 'I', 'Caesar', 'And', 'I', 'Yet', 'Enter', 'Citizens', 'First', 'Citizen', 'What', 'Second', 'Citizen', 'Whither', 'Third', 'Citizen', 'Where', 'Fourth', 'Citizen', 'Are', 'Second', 'Citizen', 'Answer', 'First', 'Citizen', 'Ay', 'Fourth', 'Citizen', 'Ay', 'Third', 'Citizen', 'Ay', 'What', 'Whither', 'I', 'Where', 'I', 'Am', 'I', 'Then', 'I', 'I', 'Second', 'Citizen', 'That', 'I', 'Proceed', 'Directly', 'I', 'Caesar', 'First', 'Citizen', 'As', 'As', 'Second', 'Citizen', 'That', 'Fourth', 'Citizen', 'For', 'Briefly', 'I', 'Capitol', 'Third', 'Citizen', 'Your', 'Truly', 'Cinna', 'First', 'Citizen', 'Tear', 'I', 'Cinna', 'I', 'Cinna', 'Fourth', 'Citizen', 'Tear', 'I', 'Cinna', 'Fourth', 'Citizen', 'It', 'Cinna', 'Third', 'Citizen', 'Tear', 'Come', 'Brutus', 'Cassius', 'Decius', 'Casca', 'Ligarius', 'Exeunt', 'I', 'A', 'Rome', 'These', 'Your', 'Lepidus', 'I', 'Prick', 'Antony', 'Upon', 'Publius', 'Who', 'Mark', 'Antony', 'He', 'I', 'But', 'Lepidus', 'Caesar', 'Fetch', 'How', 'What', 'I', 'Or', 'Capitol', 'Exit', 'This', 'Meet', 'The', 'One', 'So', 'And', 'In', 'Octavius', 'I', 'And', 'To', 'He', 'To', 'Either', 'And', 'Then', 'Like', 'And', 'You', 'But', 'So', 'Octavius', 'I', 'It', 'I', 'To', 'His', 'And', 'Lepidus', 'He', 'A', 'On', 'Which', 'Begin', 'But', 'And', 'Octavius', 'Listen', 'Brutus', 'Cassius', 'Are', 'Therefore', 'Our', 'And', 'How', 'And', 'Let', 'And', 'And', 'I', 'Millions', 'Exeunt', 'Camp', 'Sardis', 'Before', 'Drum', 'Enter', 'Soldiers', 'Stand', 'Give', 'What', 'Lucilius', 'Cassius', 'He', 'Pindarus', 'To', 'He', 'Your', 'Pindarus', 'In', 'Hath', 'Things', 'I', 'I', 'But', 'Such', 'He', 'A', 'Lucilius', 'How', 'With', 'But', 'Nor', 'As', 'Thou', 'A', 'Lucilius', 'When', 'It', 'There', 'But', 'Make', 'But', 'They', 'Sink', 'Comes', 'They', 'Sardis', 'The', 'Are', 'Cassius', 'Hark', 'Low', 'March', 'Enter', 'Stand', 'Stand', 'Speak', 'First', 'Soldier', 'Stand', 'Second', 'Soldier', 'Stand', 'Third', 'Soldier', 'Stand', 'Most', 'Judge', 'I', 'And', 'I', 'Brutus', 'And', 'Cassius', 'Speak', 'I', 'Before', 'Which', 'Let', 'Then', 'Cassius', 'And', 'I', 'Pindarus', 'Bid', 'A', 'Lucilius', 'Come', 'Let', 'Lucius', 'Titinius', 'Exeunt', 'Brutus', 'Enter', 'That', 'You', 'Lucius', 'Pella', 'For', 'Sardians', 'Wherein', 'Because', 'I', 'You', 'In', 'That', 'Let', 'Cassius', 'Are', 'To', 'To', 'I', 'You', 'Brutus', 'Or', 'The', 'Cassius', 'And', 'Chastisement', 'Remember', 'March', 'March', 'Did', 'Julius', 'What', 'And', 'What', 'That', 'But', 'Contaminate', 'And', 'For', 'I', 'Than', 'Roman', 'Brutus', 'I', 'To', 'I', 'I', 'Older', 'To', 'Go', 'Cassius', 'I', 'I', 'Urge', 'I', 'Have', 'Away', 'Is', 'Hear', 'I', 'Must', 'I', 'Shall', 'I', 'O', 'I', 'All', 'Go', 'And', 'Must', 'I', 'Must', 'I', 'I', 'Under', 'By', 'You', 'Though', 'I', 'When', 'Is', 'You', 'Let', 'And', 'I', 'You', 'Brutus', 'I', 'Did', 'I', 'If', 'I', 'When', 'Caesar', 'Peace', 'I', 'No', 'What', 'For', 'Do', 'I', 'I', 'You', 'There', 'Cassius', 'For', 'I', 'That', 'Which', 'I', 'I', 'For', 'For', 'I', 'By', 'I', 'And', 'From', 'By', 'I', 'To', 'Which', 'Cassius', 'Should', 'I', 'Caius', 'Cassius', 'When', 'Marcus', 'Brutus', 'To', 'Be', 'Dash', 'I', 'You', 'I', 'My', 'Brutus', 'A', 'But', 'Brutus', 'I', 'You', 'I', 'A', 'A', 'As', 'Olympus', 'Come', 'Antony', 'Octavius', 'Revenge', 'Cassius', 'For', 'Cassius', 'Hated', 'Cheque', 'Set', 'To', 'O', 'I', 'My', 'There', 'And', 'Dearer', 'Plutus', 'If', 'Roman', 'I', 'Strike', 'Caesar', 'I', 'When', 'Than', 'Cassius', 'Sheathe', 'Be', 'Do', 'O', 'Cassius', 'That', 'Who', 'And', 'Hath', 'Cassius', 'To', 'Brutus', 'When', 'When', 'I', 'I', 'Do', 'Give', 'And', 'O', 'Brutus', 'What', 'Have', 'When', 'Makes', 'Yes', 'Cassius', 'When', 'Brutus', 'He', 'Poet', 'Within', 'Let', 'There', 'They', 'Within', 'You', 'Poet', 'Within', 'Nothing', 'Enter', 'Poet', 'How', 'Poet', 'For', 'Love', 'For', 'I', 'I', 'Ha', 'Get', 'Bear', 'Brutus', 'I', 'What', 'Companion', 'Away', 'Exit', 'Poet', 'Lucilius', 'Titinius', 'Prepare', 'And', 'Messala', 'Immediately', 'Exeunt', 'Lucius', 'Exit', 'I', 'O', 'Cassius', 'I', 'Of', 'If', 'No', 'Portia', 'Ha', 'Portia', 'She', 'How', 'I', 'I', 'O', 'Upon', 'Impatient', 'And', 'Octavius', 'Mark', 'Antony', 'Have', 'That', 'And', 'And', 'Even', 'O', 'Re', 'Speak', 'Give', 'In', 'I', 'Cassius', 'My', 'Fill', 'Lucius', 'I', 'Brutus', 'Come', 'Titinius', 'Exit', 'Re', 'Welcome', 'Messala', 'Now', 'And', 'Portia', 'No', 'I', 'Messala', 'I', 'That', 'Octavius', 'Mark', 'Antony', 'Come', 'Bending', 'Philippi', 'Myself', 'With', 'That', 'Octavius', 'Antony', 'Lepidus', 'Have', 'Therein', 'Mine', 'By', 'Cicero', 'Cicero', 'Cicero', 'And', 'Had', 'No', 'Messala', 'Nor', 'Nothing', 'Messala', 'That', 'Why', 'No', 'Now', 'Roman', 'Then', 'Roman', 'I', 'For', 'Why', 'Portia', 'We', 'Messala', 'With', 'I', 'Even', 'I', 'But', 'Well', 'What', 'Of', 'Philippi', 'I', 'Your', 'This', 'Tis', 'So', 'Doing', 'Are', 'Good', 'The', 'Philippi', 'Do', 'For', 'The', 'By', 'Come', 'From', 'If', 'Philippi', 'These', 'Hear', 'Under', 'You', 'That', 'Our', 'The', 'We', 'There', 'Which', 'Omitted', 'Is', 'On', 'And', 'Or', 'Then', 'We', 'Philippi', 'The', 'And', 'Which', 'There', 'No', 'Good', 'Early', 'Lucius', 'Enter', 'My', 'Exit', 'Farewell', 'Messala', 'Good', 'Titinius', 'Noble', 'Cassius', 'Good', 'O', 'This', 'Never', 'Let', 'Brutus', 'Every', 'Good', 'Good', 'Good', 'Lord', 'Brutus', 'Farewell', 'Exeunt', 'Re', 'Give', 'Where', 'Here', 'What', 'Poor', 'I', 'Call', 'Claudius', 'I', 'Varro', 'Claudius', 'Enter', 'Calls', 'I', 'It', 'I', 'On', 'Cassius', 'So', 'I', 'It', 'I', 'Look', 'Lucius', 'I', 'I', 'I', 'Bear', 'I', 'Canst', 'And', 'Ay', 'It', 'I', 'It', 'I', 'I', 'I', 'It', 'I', 'I', 'I', 'Music', 'This', 'O', 'Lay', 'That', 'Gentle', 'I', 'If', 'I', 'Let', 'Where', 'I', 'Here', 'I', 'Enter', 'Ghost', 'How', 'Ha', 'I', 'That', 'It', 'Art', 'Art', 'That', 'Speak', 'Thy', 'Brutus', 'Why', 'To', 'Philippi', 'Well', 'I', 'Ay', 'Philippi', 'Why', 'I', 'Philippi', 'Exit', 'Ghost', 'Now', 'I', 'Ill', 'I', 'Boy', 'Lucius', 'Varro', 'Claudius', 'Sirs', 'Claudius', 'The', 'He', 'Lucius', 'My', 'Didst', 'Lucius', 'My', 'I', 'I', 'Yes', 'Nothing', 'Sleep', 'Lucius', 'Sirrah', 'Claudius', 'To', 'Fellow', 'My', 'My', 'Why', 'Did', 'Ay', 'No', 'I', 'Nor', 'I', 'Go', 'Cassius', 'Bid', 'And', 'It', 'Exeunt', 'V', 'I', 'The', 'Philippi', 'Enter', 'Now', 'Antony', 'You', 'But', 'It', 'They', 'Philippi', 'Answering', 'Tut', 'I', 'I', 'Wherefore', 'To', 'With', 'To', 'But', 'Enter', 'Messenger', 'Messenger', 'Prepare', 'The', 'Their', 'And', 'Octavius', 'Upon', 'Upon', 'I', 'Why', 'I', 'I', 'March', 'Drum', 'Enter', 'Army', 'They', 'Stand', 'Titinius', 'Mark', 'Antony', 'No', 'Caesar', 'Make', 'Stir', 'Words', 'Not', 'Good', 'Octavius', 'In', 'Brutus', 'Witness', 'Caesar', 'Crying', 'Long', 'Caesar', 'Antony', 'The', 'But', 'Hybla', 'And', 'Not', 'O', 'For', 'Antony', 'And', 'Villains', 'Hack', 'Caesar', 'You', 'And', 'Caesar', 'Whilst', 'Casca', 'Struck', 'Caesar', 'O', 'Flatterers', 'Now', 'Brutus', 'This', 'If', 'Cassius', 'Come', 'The', 'Look', 'I', 'When', 'Never', 'Caesar', 'Be', 'Caesar', 'Have', 'Caesar', 'Unless', 'So', 'I', 'I', 'Brutus', 'O', 'Young', 'A', 'Join', 'Old', 'Cassius', 'Come', 'Antony', 'Defiance', 'If', 'If', 'Exeunt', 'Why', 'The', 'Ho', 'Lucilius', 'Standing', 'My', 'Messala', 'Standing', 'What', 'Messala', 'This', 'Was', 'Cassius', 'Give', 'Messala', 'Be', 'As', 'Pompey', 'I', 'Upon', 'You', 'I', 'Epicurus', 'And', 'I', 'And', 'Coming', 'Sardis', 'Two', 'Gorging', 'Who', 'Philippi', 'This', 'And', 'Fly', 'As', 'A', 'Our', 'Believe', 'I', 'For', 'I', 'To', 'Even', 'Lucilius', 'Now', 'Brutus', 'The', 'Lovers', 'But', 'Let', 'If', 'The', 'What', 'Even', 'By', 'I', 'Cato', 'Which', 'I', 'But', 'I', 'For', 'The', 'To', 'That', 'Then', 'You', 'Thorough', 'Rome', 'No', 'Cassius', 'Roman', 'That', 'Brutus', 'Rome', 'He', 'But', 'Must', 'March', 'And', 'I', 'Therefore', 'For', 'Cassius', 'If', 'If', 'For', 'Brutus', 'If', 'If', 'Why', 'O', 'The', 'But', 'And', 'Come', 'Exeunt', 'The', 'The', 'Alarum', 'Enter', 'Ride', 'Messala', 'Unto', 'Loud', 'Let', 'I', 'But', 'Octavius', 'And', 'Ride', 'Messala', 'Exeunt', 'Another', 'Alarums', 'Enter', 'O', 'Titinius', 'Myself', 'This', 'I', 'O', 'Cassius', 'Brutus', 'Who', 'Octavius', 'Took', 'Whilst', 'Antony', 'Enter', 'Fly', 'Mark', 'Antony', 'Fly', 'Cassius', 'This', 'Look', 'Titinius', 'Are', 'I', 'They', 'Titinius', 'Mount', 'Till', 'And', 'I', 'Whether', 'I', 'Exit', 'Go', 'Pindarus', 'My', 'Titinius', 'And', 'This', 'I', 'And', 'I', 'I', 'My', 'Sirrah', 'Above', 'O', 'What', 'Above', 'Titinius', 'With', 'Yet', 'Now', 'Now', 'Titinius', 'Now', 'O', 'He', 'Shout', 'And', 'Come', 'O', 'I', 'To', 'Come', 'In', 'Parthia', 'I', 'And', 'I', 'That', 'I', 'Thou', 'Come', 'Now', 'That', 'Caesar', 'Stand', 'And', 'Guide', 'Caesar', 'Even', 'Dies', 'So', 'I', 'Durst', 'I', 'O', 'Cassius', 'Far', 'Pindarus', 'Where', 'Roman', 'Exit', 'Re', 'It', 'Titinius', 'Octavius', 'Is', 'Brutus', 'As', 'Cassius', 'Antony', 'These', 'Cassius', 'Where', 'All', 'With', 'Pindarus', 'Is', 'He', 'O', 'Is', 'No', 'Messala', 'But', 'Cassius', 'O', 'As', 'So', 'Cassius', 'The', 'Rome', 'Our', 'Clouds', 'Mistrust', 'Mistrust', 'O', 'Why', 'The', 'O', 'Thou', 'But', 'What', 'Pindarus', 'Pindarus', 'Seek', 'Titinius', 'I', 'The', 'Brutus', 'Into', 'I', 'For', 'Shall', 'Brutus', 'As', 'Hie', 'Messala', 'And', 'I', 'Pindarus', 'Exit', 'Why', 'Cassius', 'Did', 'I', 'Put', 'And', 'Didst', 'Alas', 'But', 'Thy', 'Brutus', 'I', 'Will', 'Brutus', 'And', 'I', 'Caius', 'Cassius', 'By', 'Roman', 'Come', 'Cassius', 'Titinius', 'Kills', 'Alarum', 'Re', 'Where', 'Messala', 'Lo', 'Titinius', 'Titinius', 'He', 'O', 'Julius', 'Caesar', 'Thy', 'In', 'Low', 'Brave', 'Titinius', 'Look', 'Cassius', 'Are', 'Romans', 'The', 'Romans', 'It', 'Rome', 'Should', 'Friends', 'I', 'To', 'I', 'Cassius', 'I', 'Come', 'Thasos', 'His', 'Lest', 'Lucilius', 'And', 'Cato', 'Labeo', 'Flavius', 'Tis', 'Romans', 'We', 'Exeunt', 'Another', 'Alarum', 'Enter', 'Soldiers', 'Yet', 'O', 'What', 'Who', 'I', 'I', 'Marcus', 'Cato', 'A', 'I', 'Marcus', 'Cato', 'And', 'I', 'Brutus', 'Marcus', 'Brutus', 'I', 'Brutus', 'Brutus', 'Exit', 'O', 'Cato', 'Why', 'Titinius', 'And', 'Cato', 'First', 'Soldier', 'Yield', 'Only', 'I', 'There', 'Offering', 'Kill', 'Brutus', 'First', 'Soldier', 'We', 'A', 'Second', 'Soldier', 'Room', 'Tell', 'Antony', 'Brutus', 'First', 'Soldier', 'I', 'Here', 'Enter', 'Brutus', 'Brutus', 'Where', 'Safe', 'Antony', 'Brutus', 'I', 'Shall', 'Brutus', 'The', 'When', 'He', 'Brutus', 'This', 'Brutus', 'I', 'A', 'Give', 'I', 'Such', 'Go', 'And', 'Brutus', 'And', 'Octavius', 'How', 'Exeunt', 'V', 'Another', 'Enter', 'Come', 'Statilius', 'He', 'Sit', 'Clitus', 'It', 'Hark', 'Clitus', 'Whispers', 'What', 'I', 'No', 'Peace', 'I', 'Hark', 'Dardanius', 'Whispers', 'Shall', 'I', 'O', 'Dardanius', 'O', 'Clitus', 'What', 'Brutus', 'To', 'Clitus', 'Look', 'Now', 'That', 'Come', 'Volumnius', 'What', 'Why', 'Volumnius', 'The', 'Caesar', 'Two', 'Sardis', 'And', 'Philippi', 'I', 'Not', 'Nay', 'I', 'Volumnius', 'Thou', 'Volumnius', 'Our', 'Low', 'It', 'Than', 'Good', 'Volumnius', 'Thou', 'Even', 'I', 'Hold', 'I', 'That', 'Alarum', 'Fly', 'Farewell', 'Volumnius', 'Strato', 'Farewell', 'Strato', 'Countrymen', 'My', 'I', 'I', 'More', 'Octavius', 'Mark', 'Antony', 'By', 'So', 'Brutus', 'Hath', 'Night', 'That', 'Alarum', 'Cry', 'Fly', 'Fly', 'Hence', 'I', 'Exeunt', 'I', 'Strato', 'Thou', 'Thy', 'Hold', 'While', 'I', 'Wilt', 'Strato', 'Give', 'Fare', 'Farewell', 'Strato', 'Runs', 'Caesar', 'I', 'Dies', 'Alarum', 'Retreat', 'Enter', 'What', 'My', 'Strato', 'Free', 'Messala', 'The', 'For', 'Brutus', 'And', 'So', 'Brutus', 'I', 'Brutus', 'That', 'Lucilius', 'All', 'Brutus', 'I', 'Fellow', 'Ay', 'Messala', 'Do', 'Messala', 'How', 'Strato', 'I', 'Octavius', 'That', 'This', 'Roman', 'All', 'Did', 'Caesar', 'He', 'And', 'His', 'So', 'Nature', 'And', 'This', 'According', 'With', 'Within', 'Most', 'So', 'To', 'Exeunt']\n",
            "total number of first letter only capitalized words are: 4376\n"
          ],
          "name": "stdout"
        }
      ]
    },
    {
      "cell_type": "markdown",
      "metadata": {
        "id": "Rb3dvHVKAV_p"
      },
      "source": [
        "4) Write a regular expression using groups in Python that extracts all phrases that have\r\n",
        "“son of ” and extract/output the answer in a case-insensitive way. For example, for the\r\n",
        "following “I am the son of earth”, should find “son of earth” and extract/output “earth”.\r\n"
      ]
    },
    {
      "cell_type": "code",
      "metadata": {
        "colab": {
          "base_uri": "https://localhost:8080/"
        },
        "id": "XQbq_NefiWSJ",
        "outputId": "c525a950-9fdd-4be1-e8a8-57f7af1cbf7e"
      },
      "source": [
        "import re\r\n",
        "text = open(\"hw_1-text.txt\", \"r\").read()\r\n",
        "ans = re.findall(r\"\\b(son of (\\w+))\\b\", text)\r\n",
        "\r\n",
        "for i in ans :\r\n",
        "  print(i[1])\r\n"
      ],
      "execution_count": null,
      "outputs": [
        {
          "output_type": "stream",
          "text": [
            "Rome\n",
            "Caesar\n",
            "Marcus\n",
            "Marcus\n"
          ],
          "name": "stdout"
        }
      ]
    },
    {
      "cell_type": "markdown",
      "metadata": {
        "id": "tawp0oRlDDUk"
      },
      "source": [
        ""
      ]
    },
    {
      "cell_type": "markdown",
      "metadata": {
        "id": "Yq8wKSATiKHN"
      },
      "source": [
        " 2) Write a regular expression in Python that finds all 6 character words found in this play."
      ]
    },
    {
      "cell_type": "code",
      "metadata": {
        "id": "_oamFGR-Czek",
        "colab": {
          "base_uri": "https://localhost:8080/"
        },
        "outputId": "1245bcdb-46cf-49f0-9d63-5695408b352c"
      },
      "source": [
        "import re\r\n",
        "text = open(\"hw_1-text.txt\", \"r\").read()\r\n",
        "ans = re.findall(r'\\b[a-zA-Z]{6}\\b', text, re.M)\r\n",
        "\r\n",
        "c= 0\r\n",
        "for i in ans :\r\n",
        "  c += 1\r\n",
        "  \r\n",
        "print(ans)\r\n",
        "print(\"The total number of 6 character words : \", c)"
      ],
      "execution_count": null,
      "outputs": [
        {
          "output_type": "stream",
          "text": [
            "['Julius', 'Caesar', 'street', 'Second', 'answer', 'Second', 'indeed', 'mender', 'Second', 'fellow', 'Second', 'cobble', 'Second', 'meddle', 'indeed', 'danger', 'proper', 'Second', 'myself', 'indeed', 'Caesar', 'brings', 'follow', 'wheels', 'blocks', 'stones', 'things', 'hearts', 'Pompey', 'towers', 'Pompey', 'appear', 'sounds', 'shores', 'attire', 'Pompey', 'houses', 'plague', 'lowest', 'stream', 'shores', 'Exeunt', 'basest', 'vanish', 'tongue', 'images', 'matter', 'images', 'Caesar', 'vulgar', 'Caesar', 'Exeunt', 'public', 'CAESAR', 'ANTONY', 'course', 'PORTIA', 'DECIUS', 'BRUTUS', 'CICERO', 'BRUTUS', 'CAESAR', 'Caesar', 'speaks', 'CAESAR', 'CAESAR', 'course', 'ANTONY', 'Caesar', 'CAESAR', 'Forget', 'elders', 'barren', 'ANTONY', 'Caesar', 'CAESAR', 'Caesar', 'CAESAR', 'CAESAR', 'tongue', 'Caesar', 'Caesar', 'Beware', 'CAESAR', 'BRUTUS', 'beware', 'CAESAR', 'before', 'Fellow', 'throng', 'Caesar', 'CAESAR', 'Beware', 'CAESAR', 'Sennet', 'Exeunt', 'except', 'BRUTUS', 'course', 'BRUTUS', 'BRUTUS', 'spirit', 'Antony', 'hinder', 'Brutus', 'friend', 'BRUTUS', 'Merely', 'myself', 'proper', 'myself', 'number', 'Brutus', 'Brutus', 'breast', 'buried', 'worthy', 'Brutus', 'BRUTUS', 'itself', 'things', 'Brutus', 'hidden', 'shadow', 'Except', 'Caesar', 'Brutus', 'Brutus', 'BRUTUS', 'myself', 'Brutus', 'cannot', 'gentle', 'Brutus', 'common', 'myself', 'BRUTUS', 'people', 'Choose', 'Caesar', 'BRUTUS', 'impart', 'toward', 'honour', 'honour', 'virtue', 'Brutus', 'favour', 'honour', 'cannot', 'single', 'myself', 'Caesar', 'Endure', 'winter', 'shores', 'Caesar', 'Darest', 'yonder', 'follow', 'indeed', 'buffet', 'sinews', 'hearts', 'arrive', 'Caesar', 'Aeneas', 'flames', 'Caesar', 'become', 'Caesar', 'coward', 'colour', 'lustre', 'tongue', 'Romans', 'feeble', 'temper', 'should', 'BRUTUS', 'Caesar', 'narrow', 'graves', 'Brutus', 'Brutus', 'Caesar', 'should', 'Caesar', 'should', 'become', 'Brutus', 'spirit', 'Caesar', 'Caesar', 'shamed', 'bloods', 'indeed', 'enough', 'Brutus', 'easily', 'BRUTUS', 'answer', 'things', 'friend', 'Brutus', 'rather', 'repute', 'struck', 'Brutus', 'BRUTUS', 'Caesar', 'sleeve', 'worthy', 'CAESAR', 'BRUTUS', 'Caesar', 'Cicero', 'ferret', 'matter', 'CAESAR', 'ANTONY', 'Caesar', 'CAESAR', 'headed', 'nights', 'hungry', 'thinks', 'ANTONY', 'Caesar', 'CAESAR', 'fatter', 'liable', 'should', 'Antony', 'Seldom', 'smiles', 'smiles', 'spirit', 'Whiles', 'behold', 'rather', 'always', 'Caesar', 'Sennet', 'Exeunt', 'CAESAR', 'BRUTUS', 'Caesar', 'BRUTUS', 'should', 'people', 'BRUTUS', 'second', 'thrice', 'BRUTUS', 'thrice', 'thrice', 'honest', 'Antony', 'BRUTUS', 'manner', 'gentle', 'hanged', 'manner', 'Antony', 'hooted', 'sweaty', 'breath', 'Caesar', 'almost', 'choked', 'Caesar', 'Caesar', 'swound', 'market', 'foamed', 'BRUTUS', 'Caesar', 'honest', 'Caesar', 'people', 'BRUTUS', 'before', 'common', 'throat', 'rogues', 'hearts', 'Caesar', 'BRUTUS', 'Cicero', 'effect', 'smiled', 'scarfs', 'Caesar', 'images', 'morrow', 'dinner', 'eating', 'expect', 'BRUTUS', 'fellow', 'mettle', 'school', 'digest', 'better', 'BRUTUS', 'morrow', 'please', 'BRUTUS', 'Brutus', 'cannot', 'Caesar', 'Brutus', 'Brutus', 'should', 'humour', 'Caesar', 'Caesar', 'endure', 'street', 'CICERO', 'CICERO', 'Caesar', 'Shakes', 'unfirm', 'Cicero', 'knotty', 'clouds', 'Either', 'strife', 'heaven', 'CICERO', 'common', 'twenty', 'remain', 'glared', 'market', 'things', 'CICERO', 'Indeed', 'things', 'things', 'Caesar', 'morrow', 'morrow', 'CICERO', 'Cicero', 'CICERO', 'honest', 'menace', 'faults', 'breast', 'heaven', 'myself', 'mighty', 'tokens', 'sparks', 'should', 'wonder', 'ghosts', 'beasts', 'things', 'change', 'heaven', 'graves', 'action', 'Caesar', 'Romans', 'govern', 'Indeed', 'Caesar', 'dagger', 'strong', 'defeat', 'beaten', 'strong', 'spirit', 'itself', 'cancel', 'should', 'Caesar', 'tyrant', 'Romans', 'Romans', 'mighty', 'straws', 'serves', 'matter', 'Caesar', 'Before', 'answer', 'griefs', 'minded', 'Romans', 'Pompey', 'favour', 'bloody', 'awhile', 'friend', 'Cimber', 'sights', 'Brutus', 'Brutus', 'window', 'Brutus', 'statue', 'Repair', 'Pompey', 'Decius', 'Brutus', 'Cimber', 'bestow', 'papers', 'repair', 'Pompey', 'Brutus', 'entire', 'yields', 'people', 'hearts', 'appear', 'change', 'virtue', 'Exeunt', 'BRUTUS', 'BRUTUS', 'BRUTUS', 'Lucius', 'cannot', 'Lucius', 'Lucius', 'Lucius', 'LUCIUS', 'LUCIUS', 'BRUTUS', 'Lucius', 'LUCIUS', 'BRUTUS', 'change', 'nature', 'bright', 'brings', 'craves', 'danger', 'Caesar', 'reason', 'common', 'ladder', 'upward', 'upmost', 'ladder', 'clouds', 'ascend', 'Caesar', 'colour', 'LUCIUS', 'LUCIUS', 'closet', 'window', 'letter', 'BRUTUS', 'morrow', 'LUCIUS', 'BRUTUS', 'LUCIUS', 'BRUTUS', 'letter', 'Brutus', 'strike', 'Brutus', 'strike', 'strike', 'follow', 'Brutus', 'LUCIUS', 'LUCIUS', 'wasted', 'within', 'BRUTUS', 'knocks', 'LUCIUS', 'Caesar', 'acting', 'motion', 'Genius', 'mortal', 'little', 'nature', 'LUCIUS', 'LUCIUS', 'desire', 'BRUTUS', 'LUCIUS', 'BRUTUS', 'LUCIUS', 'buried', 'cloaks', 'favour', 'BRUTUS', 'LUCIUS', 'cavern', 'enough', 'visage', 'smiles', 'native', 'Erebus', 'itself', 'enough', 'DECIUS', 'BRUTUS', 'CIMBER', 'morrow', 'Brutus', 'BRUTUS', 'BRUTUS', 'hither', 'Decius', 'Brutus', 'BRUTUS', 'Cimber', 'BRUTUS', 'BRUTUS', 'DECIUS', 'BRUTUS', 'pardon', 'clouds', 'arises', 'season', 'months', 'higher', 'toward', 'Stands', 'BRUTUS', 'BRUTUS', 'enough', 'kindle', 'valour', 'secret', 'Romans', 'palter', 'feeble', 'wrongs', 'causes', 'virtue', 'mettle', 'guilty', 'Cicero', 'strong', 'CIMBER', 'silver', 'voices', 'youths', 'appear', 'buried', 'BRUTUS', 'follow', 'Indeed', 'DECIUS', 'BRUTUS', 'Caesar', 'Decius', 'Antony', 'Caesar', 'Should', 'Caesar', 'shrewd', 'Antony', 'Caesar', 'BRUTUS', 'course', 'bloody', 'Antony', 'Caesar', 'spirit', 'Caesar', 'spirit', 'Caesar', 'spirit', 'Caesar', 'Caesar', 'gentle', 'boldly', 'hounds', 'hearts', 'subtle', 'common', 'Antony', 'Caesar', 'Caesar', 'Caesar', 'BRUTUS', 'Caesar', 'Caesar', 'should', 'sports', 'BRUTUS', 'Caesar', 'dreams', 'terror', 'DECIUS', 'BRUTUS', 'ersway', 'betray', 'humour', 'BRUTUS', 'eighth', 'CIMBER', 'Caesar', 'Pompey', 'wonder', 'BRUTUS', 'hither', 'Brutus', 'Romans', 'BRUTUS', 'actors', 'formal', 'morrow', 'Exeunt', 'BRUTUS', 'Lucius', 'asleep', 'matter', 'brains', 'PORTIA', 'PORTIA', 'Brutus', 'BRUTUS', 'Portia', 'health', 'commit', 'PORTIA', 'Brutus', 'supper', 'Musing', 'across', 'matter', 'stared', 'answer', 'withal', 'Hoping', 'effect', 'humour', 'should', 'Brutus', 'BRUTUS', 'health', 'PORTIA', 'Brutus', 'health', 'BRUTUS', 'Portia', 'PORTIA', 'Brutus', 'Brutus', 'rheumy', 'Brutus', 'within', 'virtue', 'beauty', 'unfold', 'resort', 'BRUTUS', 'gentle', 'Portia', 'PORTIA', 'should', 'gentle', 'Brutus', 'Within', 'Brutus', 'should', 'Portia', 'Brutus', 'harlot', 'BRUTUS', 'PORTIA', 'should', 'secret', 'withal', 'Brutus', 'withal', 'father', 'strong', 'Giving', 'myself', 'BRUTUS', 'Render', 'worthy', 'within', 'knocks', 'Portia', 'awhile', 'PORTIA', 'Lucius', 'knocks', 'LUCIUS', 'LUCIUS', 'BRUTUS', 'morrow', 'feeble', 'tongue', 'BRUTUS', 'Brutus', 'worthy', 'honour', 'BRUTUS', 'Romans', 'before', 'spirit', 'strive', 'things', 'better', 'BRUTUS', 'BRUTUS', 'unfold', 'follow', 'Brutus', 'BRUTUS', 'Follow', 'Exeunt', 'CAESAR', 'CAESAR', 'CAESAR', 'heaven', 'Thrice', 'murder', 'Caesar', 'within', 'CAESAR', 'Caesar', 'CAESAR', 'Caesar', 'things', 'Caesar', 'Caesar', 'fright', 'within', 'things', 'horrid', 'sights', 'graves', 'Fierce', 'fought', 'clouds', 'battle', 'Horses', 'ghosts', 'shriek', 'squeal', 'Caesar', 'things', 'beyond', 'CAESAR', 'mighty', 'Caesar', 'Caesar', 'comets', 'CAESAR', 'before', 'deaths', 'should', 'Seeing', 'within', 'CAESAR', 'Caesar', 'should', 'should', 'Caesar', 'danger', 'Caesar', 'litter', 'Caesar', 'wisdom', 'Antony', 'senate', 'CAESAR', 'Antony', 'humour', 'DECIUS', 'BRUTUS', 'Decius', 'Brutus', 'DECIUS', 'BRUTUS', 'Caesar', 'morrow', 'worthy', 'Caesar', 'senate', 'CAESAR', 'Cannot', 'falser', 'Decius', 'CAESAR', 'Caesar', 'afraid', 'Decius', 'Caesar', 'DECIUS', 'BRUTUS', 'mighty', 'Caesar', 'CAESAR', 'enough', 'senate', 'dreamt', 'statua', 'spouts', 'Romans', 'DECIUS', 'BRUTUS', 'vision', 'statue', 'Romans', 'bathed', 'stains', 'relics', 'CAESAR', 'DECIUS', 'BRUTUS', 'senate', 'mighty', 'Caesar', 'change', 'render', 'senate', 'Caesar', 'better', 'dreams', 'Caesar', 'Caesar', 'afraid', 'Pardon', 'Caesar', 'reason', 'liable', 'CAESAR', 'BRUTUS', 'morrow', 'Caesar', 'CAESAR', 'Brutus', 'morrow', 'Caesar', 'BRUTUS', 'Caesar', 'CAESAR', 'ANTONY', 'Antony', 'revels', 'nights', 'morrow', 'Antony', 'ANTONY', 'Caesar', 'CAESAR', 'within', 'waited', 'Caesar', 'CAESAR', 'BRUTUS', 'Caesar', 'Brutus', 'yearns', 'Exeunt', 'street', 'Caesar', 'beware', 'Brutus', 'Cimber', 'Decius', 'Brutus', 'Caesar', 'mighty', 'defend', 'Caesar', 'suitor', 'virtue', 'cannot', 'Caesar', 'street', 'before', 'BRUTUS', 'PORTIA', 'LUCIUS', 'PORTIA', 'senate', 'answer', 'LUCIUS', 'errand', 'PORTIA', 'strong', 'tongue', 'LUCIUS', 'should', 'return', 'PORTIA', 'sickly', 'Caesar', 'LUCIUS', 'PORTIA', 'listen', 'rumour', 'brings', 'LUCIUS', 'PORTIA', 'hither', 'fellow', 'PORTIA', 'PORTIA', 'Caesar', 'PORTIA', 'Caesar', 'please', 'Caesar', 'Caesar', 'PORTIA', 'chance', 'morrow', 'street', 'narrow', 'throng', 'Caesar', 'common', 'feeble', 'almost', 'Caesar', 'PORTIA', 'Brutus', 'Brutus', 'Caesar', 'Lucius', 'Exeunt', 'Before', 'Senate', 'people', 'CAESAR', 'BRUTUS', 'DECIUS', 'BRUTUS', 'CIMBER', 'ANTONY', 'others', 'CAESAR', 'Caesar', 'Caesar', 'DECIUS', 'BRUTUS', 'desire', 'erread', 'humble', 'Caesar', 'Caesar', 'nearer', 'Caesar', 'CAESAR', 'served', 'Caesar', 'CAESAR', 'fellow', 'Sirrah', 'street', 'CAESAR', 'Senate', 'thrive', 'CAESAR', 'BRUTUS', 'thrive', 'BRUTUS', 'Caesar', 'sudden', 'Brutus', 'Caesar', 'myself', 'BRUTUS', 'speaks', 'smiles', 'Caesar', 'change', 'Brutus', 'Antony', 'Exeunt', 'ANTONY', 'DECIUS', 'BRUTUS', 'Cimber', 'prefer', 'Caesar', 'BRUTUS', 'second', 'CAESAR', 'Caesar', 'senate', 'CIMBER', 'mighty', 'Caesar', 'Cimber', 'throws', 'before', 'humble', 'CAESAR', 'Cimber', 'decree', 'Caesar', 'decree', 'Caesar', 'CIMBER', 'worthy', 'Caesar', 'banish', 'BRUTUS', 'Caesar', 'Cimber', 'repeal', 'CAESAR', 'Brutus', 'Pardon', 'Caesar', 'Caesar', 'pardon', 'Cimber', 'fellow', 'sparks', 'number', 'motion', 'little', 'Cimber', 'should', 'banish', 'remain', 'Caesar', 'CAESAR', 'DECIUS', 'BRUTUS', 'Caesar', 'CAESAR', 'Brutus', 'BRUTUS', 'CAESAR', 'CAESAR', 'Caesar', 'common', 'BRUTUS', 'People', 'pulpit', 'Brutus', 'DECIUS', 'BRUTUS', 'BRUTUS', 'mutiny', 'CIMBER', 'friend', 'Caesar', 'Should', 'chance', 'BRUTUS', 'person', 'people', 'should', 'BRUTUS', 'Antony', 'amazed', 'BRUTUS', 'twenty', 'BRUTUS', 'Caesar', 'Romans', 'Caesar', 'elbows', 'swords', 'market', 'waving', 'states', 'unborn', 'BRUTUS', 'Caesar', 'Pompey', 'DECIUS', 'BRUTUS', 'Brutus', 'hearts', 'BRUTUS', 'friend', 'Antony', 'Brutus', 'master', 'Antony', 'Brutus', 'honest', 'Caesar', 'mighty', 'loving', 'Brutus', 'honour', 'Caesar', 'honour', 'Brutus', 'Antony', 'safely', 'Caesar', 'Antony', 'Caesar', 'Brutus', 'living', 'follow', 'Brutus', 'untrod', 'master', 'Antony', 'BRUTUS', 'master', 'please', 'honour', 'Depart', 'BRUTUS', 'friend', 'BRUTUS', 'Antony', 'ANTONY', 'Antony', 'ANTONY', 'mighty', 'Caesar', 'spoils', 'Shrunk', 'little', 'intend', 'myself', 'Caesar', 'swords', 'whilst', 'Fulfil', 'myself', 'please', 'Caesar', 'choice', 'master', 'BRUTUS', 'Antony', 'Though', 'appear', 'bloody', 'hearts', 'drives', 'Caesar', 'swords', 'leaden', 'points', 'Antony', 'malice', 'hearts', 'temper', 'strong', 'BRUTUS', 'beside', 'Caesar', 'struck', 'ANTONY', 'wisdom', 'render', 'bloody', 'Marcus', 'Brutus', 'Decius', 'Brutus', 'Though', 'credit', 'stands', 'ground', 'Either', 'coward', 'Caesar', 'spirit', 'grieve', 'dearer', 'making', 'bloody', 'wounds', 'stream', 'become', 'better', 'Pardon', 'Julius', 'forest', 'indeed', 'Antony', 'ANTONY', 'Pardon', 'Caesar', 'friend', 'Caesar', 'number', 'depend', 'ANTONY', 'indeed', 'Caesar', 'Caesar', 'BRUTUS', 'savage', 'regard', 'Antony', 'Caesar', 'should', 'ANTONY', 'suitor', 'market', 'pulpit', 'friend', 'BRUTUS', 'Antony', 'Brutus', 'BRUTUS', 'Antony', 'people', 'BRUTUS', 'pardon', 'myself', 'pulpit', 'reason', 'Caesar', 'Antony', 'speaks', 'Caesar', 'lawful', 'BRUTUS', 'Antony', 'Caesar', 'speech', 'devise', 'Caesar', 'pulpit', 'speech', 'ANTONY', 'desire', 'BRUTUS', 'follow', 'Exeunt', 'ANTONY', 'ANTONY', 'pardon', 'gentle', 'costly', 'wounds', 'mouths', 'tongue', 'fierce', 'strife', 'cumber', 'behold', 'choked', 'custom', 'Caesar', 'spirit', 'burial', 'Caesar', 'Antony', 'ANTONY', 'Caesar', 'coming', 'Caesar', 'Seeing', 'ANTONY', 'Seeing', 'sorrow', 'master', 'coming', 'within', 'ANTONY', 'safety', 'awhile', 'market', 'people', 'bloody', 'things', 'Exeunt', 'CAESAR', 'BRUTUS', 'throng', 'BRUTUS', 'follow', 'street', 'follow', 'public', 'Caesar', 'Brutus', 'Second', 'BRUTUS', 'pulpit', 'Brutus', 'BRUTUS', 'Romans', 'lovers', 'silent', 'honour', 'honour', 'wisdom', 'senses', 'better', 'friend', 'Caesar', 'Brutus', 'Caesar', 'friend', 'demand', 'Brutus', 'Caesar', 'answer', 'Caesar', 'rather', 'Caesar', 'living', 'slaves', 'Caesar', 'Caesar', 'honour', 'honour', 'valour', 'Brutus', 'BRUTUS', 'Caesar', 'Brutus', 'worthy', 'ANTONY', 'others', 'CAESAR', 'Antony', 'though', 'depart', 'dagger', 'myself', 'please', 'Brutus', 'Second', 'statue', 'Caesar', 'Fourth', 'Caesar', 'better', 'Brutus', 'shouts', 'BRUTUS', 'Second', 'Brutus', 'speaks', 'BRUTUS', 'depart', 'Antony', 'Caesar', 'corpse', 'speech', 'Caesar', 'Antony', 'depart', 'Antony', 'Antony', 'public', 'Antony', 'ANTONY', 'Brutus', 'pulpit', 'Fourth', 'Brutus', 'Brutus', 'Fourth', 'Brutus', 'Caesar', 'tyrant', 'Second', 'Antony', 'ANTONY', 'gentle', 'Romans', 'ANTONY', 'Romans', 'Caesar', 'praise', 'Caesar', 'Brutus', 'Caesar', 'Caesar', 'answer', 'Brutus', 'Brutus', 'Caesar', 'friend', 'Brutus', 'Brutus', 'Caesar', 'Caesar', 'should', 'Brutus', 'Brutus', 'thrice', 'kingly', 'thrice', 'refuse', 'Brutus', 'Brutus', 'beasts', 'reason', 'coffin', 'Caesar', 'reason', 'Second', 'matter', 'Caesar', 'Fourth', 'Second', 'nobler', 'Antony', 'Fourth', 'begins', 'ANTONY', 'Caesar', 'hearts', 'mutiny', 'should', 'Brutus', 'rather', 'choose', 'myself', 'Caesar', 'closet', 'pardon', 'Caesar', 'wounds', 'sacred', 'memory', 'within', 'legacy', 'Fourth', 'Antony', 'Caesar', 'ANTONY', 'gentle', 'Caesar', 'stones', 'Caesar', 'should', 'Fourth', 'Antony', 'Caesar', 'ANTONY', 'awhile', 'ershot', 'myself', 'Caesar', 'Fourth', 'Second', 'ANTONY', 'compel', 'corpse', 'Caesar', 'Second', 'ANTONY', 'Fourth', 'hearse', 'Second', 'Antony', 'Antony', 'ANTONY', 'ANTONY', 'mantle', 'Caesar', 'summer', 'Nervii', 'dagger', 'Brutus', 'cursed', 'Caesar', 'follow', 'Brutus', 'Brutus', 'Caesar', 'dearly', 'Caesar', 'Caesar', 'strong', 'mighty', 'mantle', 'Pompey', 'statua', 'Caesar', 'Whilst', 'bloody', 'behold', 'Caesar', 'Second', 'Caesar', 'Fourth', 'bloody', 'Second', 'ANTONY', 'Antony', 'Second', 'follow', 'ANTONY', 'sudden', 'mutiny', 'griefs', 'answer', 'hearts', 'orator', 'Brutus', 'friend', 'public', 'Action', 'speech', 'Caesar', 'wounds', 'mouths', 'Brutus', 'Brutus', 'Antony', 'Antony', 'ruffle', 'tongue', 'Caesar', 'should', 'stones', 'mutiny', 'mutiny', 'Brutus', 'ANTONY', 'Antony', 'Antony', 'ANTONY', 'Caesar', 'forgot', 'ANTONY', 'Caesar', 'Second', 'Caesar', 'Caesar', 'ANTONY', 'ANTONY', 'common', 'abroad', 'Caesar', 'brands', 'houses', 'Second', 'Fourth', 'Exeunt', 'ANTONY', 'course', 'fellow', 'ANTONY', 'Caesar', 'ANTONY', 'Brutus', 'madmen', 'ANTONY', 'Belike', 'notice', 'people', 'Exeunt', 'street', 'dreamt', 'Caesar', 'things', 'charge', 'wander', 'Second', 'Fourth', 'Second', 'Answer', 'Fourth', 'wisely', 'answer', 'wisely', 'wisely', 'Second', 'Caesar', 'friend', 'friend', 'Second', 'matter', 'Fourth', 'pieces', 'Fourth', 'verses', 'verses', 'Fourth', 'matter', 'brands', 'brands', 'Brutus', 'Decius', 'Exeunt', 'ANTONY', 'seated', 'ANTONY', 'Antony', 'sister', 'Antony', 'ANTONY', 'Caesar', 'hither', 'charge', 'ANTONY', 'slight', 'should', 'should', 'ANTONY', 'though', 'divers', 'Either', 'driven', 'having', 'ANTONY', 'motion', 'govern', 'spirit', 'taught', 'barren', 'fellow', 'staled', 'Listen', 'things', 'Brutus', 'powers', 'covert', 'perils', 'surest', 'hearts', 'Exeunt', 'Sardis', 'Before', 'BRUTUS', 'BRUTUS', 'LUCIUS', 'BRUTUS', 'BRUTUS', 'master', 'BRUTUS', 'greets', 'master', 'change', 'worthy', 'Things', 'undone', 'master', 'appear', 'regard', 'honour', 'BRUTUS', 'enough', 'BRUTUS', 'friend', 'begins', 'sicken', 'tricks', 'simple', 'hollow', 'horses', 'mettle', 'should', 'endure', 'bloody', 'crests', 'Sardis', 'BRUTUS', 'within', 'gently', 'powers', 'BRUTUS', 'Second', 'BRUTUS', 'should', 'Brutus', 'wrongs', 'BRUTUS', 'griefs', 'softly', 'Before', 'armies', 'should', 'griefs', 'little', 'ground', 'BRUTUS', 'Lucius', 'Exeunt', 'Brutus', 'BRUTUS', 'appear', 'Lucius', 'taking', 'bribes', 'BRUTUS', 'should', 'BRUTUS', 'Brutus', 'speech', 'BRUTUS', 'BRUTUS', 'Julius', 'struck', 'bribes', 'mighty', 'rather', 'Brutus', 'endure', 'forget', 'BRUTUS', 'BRUTUS', 'forget', 'myself', 'health', 'BRUTUS', 'slight', 'BRUTUS', 'choler', 'madman', 'stares', 'endure', 'BRUTUS', 'slaves', 'crouch', 'humour', 'digest', 'spleen', 'Though', 'BRUTUS', 'better', 'appear', 'please', 'Brutus', 'better', 'better', 'BRUTUS', 'Caesar', 'BRUTUS', 'BRUTUS', 'BRUTUS', 'BRUTUS', 'should', 'terror', 'strong', 'denied', 'heaven', 'rather', 'denied', 'Should', 'answer', 'Marcus', 'Brutus', 'rascal', 'pieces', 'denied', 'BRUTUS', 'answer', 'Brutus', 'friend', 'should', 'friend', 'Brutus', 'BRUTUS', 'BRUTUS', 'faults', 'faults', 'BRUTUS', 'though', 'appear', 'Antony', 'aweary', 'braved', 'Cheque', 'faults', 'spirit', 'dagger', 'breast', 'within', 'Dearer', 'Plutus', 'richer', 'denied', 'Strike', 'Caesar', 'better', 'BRUTUS', 'dagger', 'humour', 'Brutus', 'temper', 'vexeth', 'BRUTUS', 'temper', 'BRUTUS', 'Brutus', 'BRUTUS', 'matter', 'enough', 'humour', 'mother', 'BRUTUS', 'Brutus', 'mother', 'chides', 'Within', 'grudge', 'Within', 'Within', 'LUCIUS', 'matter', 'should', 'vilely', 'BRUTUS', 'sirrah', 'fellow', 'Brutus', 'BRUTUS', 'humour', 'should', 'BRUTUS', 'Exeunt', 'BRUTUS', 'Lucius', 'LUCIUS', 'BRUTUS', 'griefs', 'BRUTUS', 'sorrow', 'better', 'Portia', 'Portia', 'BRUTUS', 'scaped', 'BRUTUS', 'Antony', 'strong', 'absent', 'BRUTUS', 'LUCIUS', 'BRUTUS', 'pledge', 'Lucius', 'cannot', 'Brutus', 'BRUTUS', 'LUCIUS', 'Portia', 'BRUTUS', 'Antony', 'mighty', 'toward', 'Myself', 'BRUTUS', 'Antony', 'BRUTUS', 'Cicero', 'Cicero', 'Cicero', 'BRUTUS', 'BRUTUS', 'BRUTUS', 'BRUTUS', 'manner', 'BRUTUS', 'Portia', 'endure', 'losses', 'should', 'endure', 'nature', 'BRUTUS', 'BRUTUS', 'reason', 'better', 'whilst', 'BRUTUS', 'better', 'people', 'ground', 'forced', 'fuller', 'number', 'people', 'BRUTUS', 'pardon', 'beside', 'utmost', 'height', 'voyage', 'afloat', 'serves', 'BRUTUS', 'nature', 'little', 'morrow', 'BRUTUS', 'Lucius', 'LUCIUS', 'LUCIUS', 'repose', 'Brutus', 'BRUTUS', 'BRUTUS', 'Brutus', 'BRUTUS', 'Exeunt', 'BRUTUS', 'LUCIUS', 'LUCIUS', 'BRUTUS', 'LUCIUS', 'BRUTUS', 'please', 'BRUTUS', 'Lucius', 'sought', 'pocket', 'LUCIUS', 'BRUTUS', 'awhile', 'strain', 'LUCIUS', 'please', 'BRUTUS', 'LUCIUS', 'BRUTUS', 'should', 'bloods', 'LUCIUS', 'BRUTUS', 'sleepy', 'leaden', 'Gentle', 'CAESAR', 'shapes', 'makest', 'spirit', 'Brutus', 'BRUTUS', 'comest', 'BRUTUS', 'BRUTUS', 'spirit', 'Lucius', 'LUCIUS', 'BRUTUS', 'thinks', 'Lucius', 'LUCIUS', 'BRUTUS', 'Lucius', 'LUCIUS', 'BRUTUS', 'LUCIUS', 'BRUTUS', 'Lucius', 'Sirrah', 'Fellow', 'BRUTUS', 'BRUTUS', 'BRUTUS', 'powers', 'before', 'follow', 'Exeunt', 'plains', 'ANTONY', 'Antony', 'proves', 'before', 'demand', 'ANTONY', 'bosoms', 'places', 'fasten', 'bloody', 'battle', 'ANTONY', 'battle', 'softly', 'ANTONY', 'BRUTUS', 'others', 'BRUTUS', 'parley', 'Antony', 'battle', 'ANTONY', 'Caesar', 'answer', 'charge', 'signal', 'BRUTUS', 'before', 'better', 'BRUTUS', 'better', 'ANTONY', 'Brutus', 'Caesar', 'Crying', 'Caesar', 'Antony', 'ANTONY', 'BRUTUS', 'Antony', 'wisely', 'threat', 'before', 'ANTONY', 'Caesar', 'hounds', 'Caesar', 'Whilst', 'damned', 'behind', 'Struck', 'Caesar', 'Brutus', 'tongue', 'redder', 'Caesar', 'thirty', 'wounds', 'Caesar', 'BRUTUS', 'Caesar', 'Unless', 'Brutus', 'BRUTUS', 'strain', 'honour', 'masker', 'ANTONY', 'Antony', 'Exeunt', 'ANTONY', 'billow', 'hazard', 'BRUTUS', 'BRUTUS', 'Pompey', 'battle', 'strong', 'change', 'partly', 'credit', 'things', 'Coming', 'Sardis', 'former', 'ensign', 'mighty', 'eagles', 'steads', 'ravens', 'sickly', 'canopy', 'partly', 'spirit', 'perils', 'BRUTUS', 'Brutus', 'Lovers', 'reason', 'befall', 'battle', 'BRUTUS', 'arming', 'myself', 'powers', 'govern', 'battle', 'BRUTUS', 'Brutus', 'Brutus', 'indeed', 'BRUTUS', 'Exeunt', 'battle', 'Alarum', 'BRUTUS', 'BRUTUS', 'alarum', 'sudden', 'Exeunt', 'Myself', 'ensign', 'coward', 'Brutus', 'having', 'Whilst', 'Antony', 'Antony', 'enough', 'lovest', 'yonder', 'troops', 'troops', 'friend', 'higher', 'regard', 'notest', 'Sirrah', 'almost', 'lights', 'behold', 'coward', 'friend', 'before', 'hither', 'sirrah', 'saving', 'Caesar', 'bowels', 'search', 'answer', 'Caesar', 'change', 'Brutus', 'Antony', 'ground', 'living', 'Clouds', 'things', 'comest', 'mother', 'whilst', 'Brutus', 'report', 'Brutus', 'wreath', 'shouts', 'Brutus', 'Brutus', 'Alarum', 'BRUTUS', 'STRATO', 'BRUTUS', 'yonder', 'BRUTUS', 'upward', 'BRUTUS', 'Julius', 'Caesar', 'mighty', 'spirit', 'abroad', 'swords', 'proper', 'BRUTUS', 'Romans', 'living', 'Romans', 'Should', 'fellow', 'Thasos', 'Romans', 'second', 'Exeunt', 'Alarum', 'armies', 'BRUTUS', 'others', 'BRUTUS', 'Marcus', 'friend', 'Marcus', 'BRUTUS', 'Brutus', 'Marcus', 'Brutus', 'Brutus', 'friend', 'Brutus', 'honour', 'Brutus', 'honour', 'Second', 'Antony', 'Brutus', 'ANTONY', 'Brutus', 'Brutus', 'ANTONY', 'Antony', 'Brutus', 'enough', 'assure', 'Brutus', 'defend', 'Brutus', 'ANTONY', 'Brutus', 'friend', 'assure', 'rather', 'Brutus', 'Exeunt', 'BRUTUS', 'CLITUS', 'STRATO', 'BRUTUS', 'CLITUS', 'BRUTUS', 'Clitus', 'Clitus', 'CLITUS', 'BRUTUS', 'CLITUS', 'rather', 'myself', 'BRUTUS', 'CLITUS', 'Clitus', 'CLITUS', 'Brutus', 'Clitus', 'CLITUS', 'vessel', 'BRUTUS', 'hither', 'BRUTUS', 'Caesar', 'appear', 'Sardis', 'fields', 'BRUTUS', 'worthy', 'school', 'whilst', 'office', 'friend', 'Alarum', 'CLITUS', 'BRUTUS', 'Strato', 'asleep', 'Strato', 'losing', 'Antony', 'attain', 'Brutus', 'tongue', 'almost', 'labour', 'attain', 'Alarum', 'within', 'CLITUS', 'BRUTUS', 'follow', 'Exeunt', 'CLITUS', 'Strato', 'fellow', 'smatch', 'honour', 'Strato', 'STRATO', 'BRUTUS', 'Strato', 'Caesar', 'Alarum', 'ANTONY', 'master', 'Strato', 'master', 'STRATO', 'Brutus', 'honour', 'Brutus', 'should', 'Brutus', 'proved', 'saying', 'served', 'Brutus', 'Fellow', 'bestow', 'STRATO', 'prefer', 'master', 'Strato', 'STRATO', 'follow', 'latest', 'master', 'ANTONY', 'Caesar', 'honest', 'common', 'gentle', 'Nature', 'virtue', 'burial', 'Within', 'Exeunt']\n",
            "The total number of 6 character words :  2295\n"
          ],
          "name": "stdout"
        }
      ]
    },
    {
      "cell_type": "markdown",
      "metadata": {
        "id": "OSKGyQ6dlAQF"
      },
      "source": [
        "5) Plays are divided in acts, write a regular expression using groups in Python that\r\n",
        "extracts the number of each act found in this play in a case-sensitive way."
      ]
    },
    {
      "cell_type": "code",
      "metadata": {
        "colab": {
          "base_uri": "https://localhost:8080/"
        },
        "id": "6u3o1xZckaCT",
        "outputId": "021bf643-1aa5-4e6a-876a-6e1ed90b4050"
      },
      "source": [
        "import re\r\n",
        "text = open(\"hw_1-text.txt\", \"r\").read()\r\n",
        "p1 = re.compile(r\"\\b(ACT (\\w+))\\b\")\r\n",
        "m = re.findall(p1, text)\r\n",
        "\r\n",
        "for i in m :\r\n",
        "  print(i[1])"
      ],
      "execution_count": null,
      "outputs": [
        {
          "output_type": "stream",
          "text": [
            "I\n",
            "II\n",
            "III\n",
            "IV\n",
            "V\n"
          ],
          "name": "stdout"
        }
      ]
    },
    {
      "cell_type": "markdown",
      "metadata": {
        "id": "zRrSsrXFt4C-"
      },
      "source": [
        "6) Write a Python function that takes the file as an input and outputs how many lines end\r\n",
        "with: ? , that is a question mark at the end of the line. This function needs to use a\r\n",
        "regular expression."
      ]
    },
    {
      "cell_type": "code",
      "metadata": {
        "colab": {
          "base_uri": "https://localhost:8080/"
        },
        "id": "BneLmRALrHvE",
        "outputId": "6ab6fd16-5037-453c-92c9-3dd4c27ef201"
      },
      "source": [
        "import re\r\n",
        "def count(text) :\r\n",
        "    ans = re.findall(r\".*\\?$\", text, re.M)\r\n",
        "    print(ans)\r\n",
        "\r\n",
        "    c = 0\r\n",
        "    for i in ans :\r\n",
        "      c +=1\r\n",
        "\r\n",
        "    print(\"The number of lines ending with ? : \",c)\r\n",
        "\r\n",
        "text = open(\"hw_1-text.txt\", \"r\").read()\r\n",
        "count(text)\r\n"
      ],
      "execution_count": null,
      "outputs": [
        {
          "output_type": "stream",
          "text": [
            "['Of your profession? Speak, what trade art thou?', 'Where is thy leather apron and thy rule?', 'What dost thou with thy best apparel on?', 'You, sir, what trade are you?', 'What trade, thou knave? thou naughty knave, what trade?', 'Thou art a cobbler, art thou?', 'But wherefore art not in thy shop today?', 'Why dost thou lead these men about the streets?', 'Wherefore rejoice? What conquest brings he home?', 'To grace in captive bonds his chariot-wheels?', 'Made in her concave shores?', 'And do you now put on your best attire?', 'And do you now cull out a holiday?', 'May we do so?', 'Caesar, my lord?', 'Ha! who calls?', 'Who is it in the press that calls on me?', 'What man is that?', 'Will you go see the order of the course?', 'Tell me, good Brutus, can you see your face?', 'For that which is not in me?', 'Ay, do you fear it?', 'But wherefore do you hold me here so long?', 'What is it that you would impart to me?', \"Brutus and Caesar: what should be in that 'Caesar'?\", 'Why should that name be sounded more than yours?', 'But it was famed with more than with one man?', \"That her wide walls encompass'd but one man?\", 'Caesar?', \"You pull'd me by the cloak; would you speak with me?\", 'Why, you were with him, were you not?', 'What was the second noise for?', 'They shouted thrice: what was the last cry for?', 'Was the crown offered him thrice?', 'Who offered him the crown?', 'But, soft, I pray you: what, did Caesar swound?', 'What said he when he came unto himself?', 'And after that, he came, thus sad, away?', 'Did Cicero say any thing?', 'To what effect?', 'Will you sup with me to-night, Casca?', 'Will you dine with me to-morrow?', 'For who so firm that cannot be seduced?', 'Good even, Casca: brought you Caesar home?', 'Why are you breathless? and why stare you so?', 'Why, saw you any thing more wonderful?', 'Come Caesar to the Capitol to-morrow?', \"Who's there?\", 'Who ever knew the heavens menace so?', 'But wherefore did you so much tempt the heavens?', \"'Tis Caesar that you mean; is it not, Cassius?\", 'And why should Caesar be a tyrant then?', 'Cinna, where haste you so?', \"To find out you. Who's that? Metellus Cimber?\", \"To our attempts. Am I not stay'd for, Cinna?\", 'Is Decius Brutus and Trebonius there?', \"Call'd you, my lord?\", 'Is not to-morrow, boy, the ides of March?', \"Shall Rome stand under one man's awe? What, Rome?\", 'Is he alone?', 'Do you know them?', 'Good morrow, Brutus; do we trouble you?', 'Know I these men that come along with you?', 'Betwixt your eyes and night?', 'Shall I entreat a word?', 'Here lies the east: doth not the day break here?', 'That this shall be, or we will fall for it?', 'But what of Cicero? shall we sound him?', \"Shall no man else be touch'd but only Caesar?\", 'By the eighth hour: is that the uttermost?', 'Portia, what mean you? wherefore rise you now?', \"Being so father'd and so husbanded?\", \"And not my husband's secrets?\", \"Lucius, who's that knocks?\", 'Boy, stand aside. Caius Ligarius! how?', \"Yea, get the better of them. What's to do?\", 'But are not some whole that we must make sick?', \"'Help, ho! they murder Caesar!' Who's within?\", 'My lord?', 'What mean you, Caesar? think you to walk forth?', 'Whose end is purposed by the mighty gods?', 'What say the augurers?', 'Shall Caesar send a lie?', 'To be afraid to tell graybeards the truth?', \"'Lo, Caesar is afraid'?\", \"What, Brutus, are you stirr'd so early too?\", \"What is 't o'clock?\", 'Why dost thou stay?', 'Art thou here yet?', 'Madam, what should I do?', 'Run to the Capitol, and nothing else?', 'And so return to you, and nothing else?', 'Hark, boy! what noise is that?', 'Come hither, fellow: which way hast thou been?', \"What is't o'clock?\", 'Is Caesar yet gone to the Capitol?', 'Thou hast some suit to Caesar, hast thou not?', \"Why, know'st thou any harm's intended towards him?\", 'What, is the fellow mad?', 'What, urge you your petitions in the street?', 'What enterprise, Popilius?', 'What said Popilius Lena?', 'That Caesar and his senate must redress?', \"For the repealing of my banish'd brother?\", 'Hence! wilt thou lift up Olympus?', 'Doth not Brutus bootless kneel?', \"Where's Publius?\", 'Where is Antony?', 'What, shall we forth?', 'O mighty Caesar! dost thou lie so low?', 'Gentlemen all,--alas, what shall I say?', 'Most noble! in the presence of thy corse?', 'But what compact mean you to have with us?', 'Or shall we on, and not depend on you?', 'By that which he will utter?', 'You serve Octavius Caesar, do you not?', 'Began to water. Is thy master coming?', 'What does he say of Brutus?', 'Did this in Caesar seem ambitious?', 'Which he did thrice refuse: was this ambition?', 'What cause withholds you then, to mourn for him?', 'Has he, masters?', 'Will you be patient? will you stay awhile?', 'You will compel me, then, to read the will?', 'Shall I descend? and will you give me leave?', 'Wherein hath Caesar thus deserved your loves?', 'Here was a Caesar! when comes such another?', 'Where is he?', 'What is your name?', 'Whither are you going?', 'Where do you dwell?', 'Are you a married man or a bachelor?', 'As a friend or an enemy?', 'Your brother too must die; consent you, Lepidus?', 'What, shall I find you here?', 'One of the three to share it?', 'What now, Lucilius! is Cassius near?', 'Sink in the trial. Comes his army on?', 'Judge me, you gods! wrong I mine enemies?', 'And, if not so, how should I wrong a brother?', \"Did not great Julius bleed for justice' sake?\", 'For so much trash as may be grasped thus?', \"Is't possible?\", 'Must I give way and room to your rash choler?', 'Shall I be frighted when a madman stares?', 'O ye gods, ye gods! must I endure all this?', 'And make your bondmen tremble. Must I budge?', 'Is it come to this?', \"Did I say 'better'?\", 'Which you denied me: was that done like Cassius?', \"Should I have answer'd Caius Cassius so?\", \"When grief, and blood ill-temper'd, vexeth him?\", \"What's the matter?\", 'Makes me forgetful?', \"How now! what's the matter?\", 'For shame, you generals! what do you mean?', 'What should the wars do with these jigging fools?', \"How 'scaped I killing when I cross'd you so?\", 'Upon what sickness?', 'And died so?', 'Portia, art thou gone?', 'With what addition?', 'Had you your letters from your wife, my lord?', 'Nor nothing in your letters writ of her?', 'Why ask you? hear you aught of her in yours?', 'Of marching to Philippi presently?', 'Your reason?', 'There is no more to say?', 'Give me the gown. Where is thy instrument?', \"What, thou speak'st drowsily?\", 'Calls my lord?', 'And touch thy instrument a strain or two?', 'How ill this taper burns! Ha! who comes here?', 'It comes upon me. Art thou any thing?', 'That makest my blood cold and my hair to stare?', 'Why comest thou?', 'Well; then I shall see thee again?', 'My lord?', 'Didst thou dream, Lucius, that thou so criedst out?', 'Yes, that thou didst: didst thou see any thing?', 'My lord?', 'My lord?', 'Why did you so cry out, sirs, in your sleep?', 'Did we, my lord?', 'Ay: saw you any thing?', 'Why do you cross me in this exigent?', 'Mark Antony, shall we give sign of battle?', 'Words before blows: is it so, countrymen?', 'When think you that the sword goes up again?', '[Standing forth] My lord?', '[Standing forth] What says my general?', 'What are you then determined to do?', 'Thorough the streets of Rome?', 'Are those my tents where I perceive the fire?', 'My life is run his compass. Sirrah, what news?', 'What news?', 'Where did you leave him?', 'Is not that he t hat lies upon the ground?', 'Is not that he?', 'What, Pindarus! where art thou, Pindarus?', 'Why didst thou send me forth, brave Cassius?', 'And bid me give it thee? Didst thou not hear their shouts?', 'Where, where, Messala, doth his body lie?', 'Are yet two Romans living such as these?', 'What bastard doth not? Who will go with me?', 'O young and noble Cato, art thou down?', 'Where is he?', 'Shall I do such a deed?', 'What ill request did Brutus make to thee?', 'What says my lord?', 'While I do run upon it. Wilt thou, Strato?', 'What man is that?', \"My master's man. Strato, where is thy master?\", 'Fellow, wilt thou bestow thy time with me?', 'How died my master, Strato?']\n",
            "The number of lines ending with ? :  215\n"
          ],
          "name": "stdout"
        }
      ]
    },
    {
      "cell_type": "markdown",
      "metadata": {
        "id": "Ffyk6wnXv0Pl"
      },
      "source": [
        "7) Using the code from Class 04, train a Random Forest classification model for the same\r\n",
        "two newsgroups, generate the confusion matrix, and all the same performance metrics."
      ]
    },
    {
      "cell_type": "code",
      "metadata": {
        "colab": {
          "base_uri": "https://localhost:8080/"
        },
        "id": "azfs2uRXwA_T",
        "outputId": "7f10d432-67e5-40e0-c8a7-cfd21daeb580"
      },
      "source": [
        "from sklearn.datasets import fetch_20newsgroups\r\n",
        "\r\n",
        "data = fetch_20newsgroups()\r\n",
        "data.target_names"
      ],
      "execution_count": null,
      "outputs": [
        {
          "output_type": "stream",
          "text": [
            "Downloading 20news dataset. This may take a few minutes.\n",
            "Downloading dataset from https://ndownloader.figshare.com/files/5975967 (14 MB)\n"
          ],
          "name": "stderr"
        },
        {
          "output_type": "execute_result",
          "data": {
            "text/plain": [
              "['alt.atheism',\n",
              " 'comp.graphics',\n",
              " 'comp.os.ms-windows.misc',\n",
              " 'comp.sys.ibm.pc.hardware',\n",
              " 'comp.sys.mac.hardware',\n",
              " 'comp.windows.x',\n",
              " 'misc.forsale',\n",
              " 'rec.autos',\n",
              " 'rec.motorcycles',\n",
              " 'rec.sport.baseball',\n",
              " 'rec.sport.hockey',\n",
              " 'sci.crypt',\n",
              " 'sci.electronics',\n",
              " 'sci.med',\n",
              " 'sci.space',\n",
              " 'soc.religion.christian',\n",
              " 'talk.politics.guns',\n",
              " 'talk.politics.mideast',\n",
              " 'talk.politics.misc',\n",
              " 'talk.religion.misc']"
            ]
          },
          "metadata": {
            "tags": []
          },
          "execution_count": 1
        }
      ]
    },
    {
      "cell_type": "code",
      "metadata": {
        "id": "sjTiDO87wEqP"
      },
      "source": [
        "categories = ['rec.autos','comp.graphics']\r\n",
        "train = fetch_20newsgroups(subset='train', categories=categories)\r\n",
        "test = fetch_20newsgroups(subset='test', categories=categories)"
      ],
      "execution_count": null,
      "outputs": []
    },
    {
      "cell_type": "code",
      "metadata": {
        "colab": {
          "base_uri": "https://localhost:8080/"
        },
        "id": "6-t5uvcfwOmz",
        "outputId": "e57b9105-04a0-43ba-e6ae-2ba8713927e9"
      },
      "source": [
        "print(train.data[6])"
      ],
      "execution_count": null,
      "outputs": [
        {
          "output_type": "stream",
          "text": [
            "From: ssave@ole.cdac.com (The Devil Reincarnate)\n",
            "Subject: Quick question\n",
            "Keywords: Removing panels.\n",
            "Organization: CDAC, WA\n",
            "Lines: 9\n",
            "\n",
            " How do you take off the driver side door panel from the inside\n",
            "on an '87 Honda Prelude?  The speaker went scratchy, and I want\n",
            "to access its pins.\n",
            "\n",
            " I see only one press button and the rest is snug fit.\n",
            "\n",
            "\n",
            " -S\n",
            " ssave@ole.cdac.com\n",
            "\n"
          ],
          "name": "stdout"
        }
      ]
    },
    {
      "cell_type": "code",
      "metadata": {
        "id": "Qu05UBY9wRiW"
      },
      "source": [
        "from sklearn.ensemble import RandomForestClassifier\r\n",
        "from sklearn.pipeline import make_pipeline\r\n",
        "from sklearn.feature_extraction.text import TfidfVectorizer\r\n",
        "\r\n",
        "model = make_pipeline(TfidfVectorizer(), RandomForestClassifier())\r\n",
        "model.fit(train.data, train.target)\r\n",
        "labels = model.predict(test.data)"
      ],
      "execution_count": null,
      "outputs": []
    },
    {
      "cell_type": "code",
      "metadata": {
        "colab": {
          "base_uri": "https://localhost:8080/"
        },
        "id": "vjKi7DMZwZ0l",
        "outputId": "c2453406-2858-42fa-bff3-45e7ca422c8c"
      },
      "source": [
        "from sklearn.metrics import confusion_matrix\r\n",
        "mat = confusion_matrix(test.target, labels)\r\n",
        "print(mat)"
      ],
      "execution_count": null,
      "outputs": [
        {
          "output_type": "stream",
          "text": [
            "[[364  25]\n",
            " [ 42 354]]\n"
          ],
          "name": "stdout"
        }
      ]
    },
    {
      "cell_type": "code",
      "metadata": {
        "colab": {
          "base_uri": "https://localhost:8080/"
        },
        "id": "lXFjs47cwqy_",
        "outputId": "8ffe9de1-93b5-493b-f57b-2a80502a0e87"
      },
      "source": [
        "from sklearn.metrics import accuracy_score\r\n",
        "from sklearn.metrics import precision_score\r\n",
        "from sklearn.metrics import recall_score\r\n",
        "from sklearn.metrics import f1_score\r\n",
        "from sklearn.metrics import mean_absolute_error\r\n",
        "from sklearn.metrics import mean_squared_error\r\n",
        "from math import sqrt\r\n",
        "\r\n",
        "print('Accuracy:',accuracy_score(test.target,labels))\r\n",
        "print('Precision:', precision_score(test.target,labels,pos_label='positive',average='micro'))\r\n",
        "print('Recall:', recall_score(test.target,labels,pos_label='positive',average='micro'))\r\n",
        "print('F1 Score:', f1_score(labels, test.target, average='macro'))\r\n",
        "print('Mean Absolute Error:', mean_absolute_error(test.target,labels))\r\n",
        "print('Mean Squared Error:', mean_squared_error(test.target, labels))  \r\n",
        "print('Root Mean Squared Error:', sqrt(mean_squared_error(test.target, labels, squared=False)))"
      ],
      "execution_count": null,
      "outputs": [
        {
          "output_type": "stream",
          "text": [
            "Accuracy: 0.9477707006369427\n",
            "Precision: 0.9477707006369427\n",
            "Recall: 0.9477707006369427\n",
            "F1 Score: 0.9476207603086282\n",
            "Mean Absolute Error: 0.05222929936305733\n",
            "Mean Squared Error: 0.05222929936305733\n",
            "Root Mean Squared Error: 0.4780557541700575\n"
          ],
          "name": "stdout"
        },
        {
          "output_type": "stream",
          "text": [
            "/usr/local/lib/python3.6/dist-packages/sklearn/metrics/_classification.py:1321: UserWarning: Note that pos_label (set to 'positive') is ignored when average != 'binary' (got 'micro'). You may use labels=[pos_label] to specify a single positive class.\n",
            "  % (pos_label, average), UserWarning)\n"
          ],
          "name": "stderr"
        }
      ]
    },
    {
      "cell_type": "markdown",
      "metadata": {
        "id": "NYpmac7dw22o"
      },
      "source": [
        "BONUS : Using the code from Class 04. Write a function to find the best\r\n",
        "performing model for the TF-IDF vectorization. The requirements for this are: 1) Pass all\r\n",
        "metrics for each model in a single dataframe (each row has a metric value, each column\r\n",
        "is a model type). 2) Make the decision of the best model by counting which column has\r\n",
        "the highest F1-score and accuracy."
      ]
    },
    {
      "cell_type": "markdown",
      "metadata": {
        "id": "_yd5eMSEOqEZ"
      },
      "source": [
        "Naive Bayes and TF-IDF :"
      ]
    },
    {
      "cell_type": "code",
      "metadata": {
        "id": "61ZbQvNfwzAT"
      },
      "source": [
        "from sklearn.feature_extraction.text import TfidfVectorizer\r\n",
        "from sklearn.naive_bayes import MultinomialNB\r\n",
        "from sklearn.pipeline import make_pipeline\r\n",
        "model = make_pipeline(TfidfVectorizer(), MultinomialNB())"
      ],
      "execution_count": null,
      "outputs": []
    },
    {
      "cell_type": "code",
      "metadata": {
        "id": "QeGgxxCwPItf"
      },
      "source": [
        "model.fit(train.data, train.target)\r\n",
        "labels = model.predict(test.data)"
      ],
      "execution_count": null,
      "outputs": []
    },
    {
      "cell_type": "code",
      "metadata": {
        "colab": {
          "base_uri": "https://localhost:8080/"
        },
        "id": "_sYlb3gkPJh4",
        "outputId": "3caedbc7-9bd1-4a0a-ac15-ff95354f84d0"
      },
      "source": [
        "from sklearn.metrics import confusion_matrix\r\n",
        "mat = confusion_matrix(test.target, labels)\r\n",
        "print(mat)"
      ],
      "execution_count": null,
      "outputs": [
        {
          "output_type": "stream",
          "text": [
            "[[351  38]\n",
            " [  3 393]]\n"
          ],
          "name": "stdout"
        }
      ]
    },
    {
      "cell_type": "code",
      "metadata": {
        "colab": {
          "base_uri": "https://localhost:8080/"
        },
        "id": "MU_Ume4uPMVz",
        "outputId": "661b7af3-63a5-4506-9c91-0eaecccb5dd7"
      },
      "source": [
        "from sklearn.metrics import accuracy_score\r\n",
        "from sklearn.metrics import precision_score\r\n",
        "from sklearn.metrics import recall_score\r\n",
        "from sklearn.metrics import f1_score\r\n",
        "from sklearn.metrics import mean_absolute_error\r\n",
        "from sklearn.metrics import mean_squared_error\r\n",
        "from math import sqrt\r\n",
        "\r\n",
        "print('Accuracy:',accuracy_score(test.target,labels))\r\n",
        "acc = accuracy_score(test.target,labels)\r\n",
        "print('Precision:', precision_score(test.target,labels,pos_label='positive',average='micro'))\r\n",
        "pre = precision_score(test.target,labels,pos_label='positive',average='micro')\r\n",
        "print('Recall:', recall_score(test.target,labels,pos_label='positive',average='micro'))\r\n",
        "rec = recall_score(test.target,labels,pos_label='positive',average='micro')\r\n",
        "print('F1 Score:', f1_score(labels, test.target, average='macro'))\r\n",
        "f1 = f1_score(labels, test.target, average='macro')\r\n",
        "print('Mean Absolute Error:', mean_absolute_error(test.target,labels))\r\n",
        "abserror = mean_absolute_error(test.target,labels)\r\n",
        "print('Mean Squared Error:', mean_squared_error(test.target, labels))  \r\n",
        "sqerror = mean_squared_error(test.target, labels)\r\n",
        "print('Root Mean Squared Error:', sqrt(mean_squared_error(test.target, labels, squared=False)))\r\n",
        "rerror = sqrt(mean_squared_error(test.target, labels,squared=False))"
      ],
      "execution_count": null,
      "outputs": [
        {
          "output_type": "stream",
          "text": [
            "Accuracy: 0.9477707006369427\n",
            "Precision: 0.9477707006369427\n",
            "Recall: 0.9477707006369427\n",
            "F1 Score: 0.9476207603086282\n",
            "Mean Absolute Error: 0.05222929936305733\n",
            "Mean Squared Error: 0.05222929936305733\n",
            "Root Mean Squared Error: 0.4780557541700575\n"
          ],
          "name": "stdout"
        },
        {
          "output_type": "stream",
          "text": [
            "/usr/local/lib/python3.6/dist-packages/sklearn/metrics/_classification.py:1321: UserWarning: Note that pos_label (set to 'positive') is ignored when average != 'binary' (got 'micro'). You may use labels=[pos_label] to specify a single positive class.\n",
            "  % (pos_label, average), UserWarning)\n"
          ],
          "name": "stderr"
        }
      ]
    },
    {
      "cell_type": "code",
      "metadata": {
        "colab": {
          "base_uri": "https://localhost:8080/"
        },
        "id": "N-OD2Hruffga",
        "outputId": "9433bc01-f91a-4c16-ed36-195702e9b8a8"
      },
      "source": [
        "import pandas as pd\r\n",
        "\r\n",
        "df = pd.DataFrame([acc,pre,rec,f1,abserror,sqerror,rerror],index=['Accuracy','Precision','Recall','F1 Score','Mean Absolute Error','Mean Squared Error','Root Mean Squared Error'],columns=['Naive Bayes and TF-IDF'])\r\n",
        "print(df)"
      ],
      "execution_count": null,
      "outputs": [
        {
          "output_type": "stream",
          "text": [
            "                         Naive Bayes and TF-IDF\n",
            "Accuracy                               0.947771\n",
            "Precision                              0.947771\n",
            "Recall                                 0.947771\n",
            "F1 Score                               0.947621\n",
            "Mean Absolute Error                    0.052229\n",
            "Mean Squared Error                     0.052229\n",
            "Root Mean Squared Error                0.478056\n"
          ],
          "name": "stdout"
        }
      ]
    },
    {
      "cell_type": "markdown",
      "metadata": {
        "id": "DpI1CibVPVlf"
      },
      "source": [
        "Perceptron and TF-IDF"
      ]
    },
    {
      "cell_type": "code",
      "metadata": {
        "id": "AyHjqKiJPQz1"
      },
      "source": [
        "from sklearn.linear_model import Perceptron\r\n",
        "model = make_pipeline(TfidfVectorizer(), Perceptron())\r\n",
        "model.fit(train.data, train.target)\r\n",
        "labels = model.predict(test.data)"
      ],
      "execution_count": null,
      "outputs": []
    },
    {
      "cell_type": "code",
      "metadata": {
        "colab": {
          "base_uri": "https://localhost:8080/"
        },
        "id": "xMfu-CPePbKr",
        "outputId": "06233f87-b3f6-48bd-8be0-b2d6dcf6baa1"
      },
      "source": [
        "from sklearn.metrics import confusion_matrix\r\n",
        "mat = confusion_matrix(test.target, labels)\r\n",
        "print(mat)"
      ],
      "execution_count": null,
      "outputs": [
        {
          "output_type": "stream",
          "text": [
            "[[360  29]\n",
            " [ 11 385]]\n"
          ],
          "name": "stdout"
        }
      ]
    },
    {
      "cell_type": "code",
      "metadata": {
        "colab": {
          "base_uri": "https://localhost:8080/"
        },
        "id": "tfP6CACJPeJ2",
        "outputId": "1589b30f-acbc-4aaf-d5cd-756687b2e888"
      },
      "source": [
        "from sklearn.metrics import accuracy_score\r\n",
        "from sklearn.metrics import precision_score\r\n",
        "from sklearn.metrics import recall_score\r\n",
        "from sklearn.metrics import f1_score\r\n",
        "from sklearn.metrics import mean_absolute_error\r\n",
        "from sklearn.metrics import mean_squared_error\r\n",
        "from math import sqrt\r\n",
        "\r\n",
        "print('Accuracy:',accuracy_score(test.target,labels))\r\n",
        "acc = accuracy_score(test.target,labels)\r\n",
        "print('Precision:', precision_score(test.target,labels,pos_label='positive',average='micro'))\r\n",
        "pre = precision_score(test.target,labels,pos_label='positive',average='micro')\r\n",
        "print('Recall:', recall_score(test.target,labels,pos_label='positive',average='micro'))\r\n",
        "rec = recall_score(test.target,labels,pos_label='positive',average='micro')\r\n",
        "print('F1 Score:', f1_score(labels, test.target, average='macro'))\r\n",
        "f1 = f1_score(labels, test.target, average='macro')\r\n",
        "print('Mean Absolute Error:', mean_absolute_error(test.target,labels))\r\n",
        "abserror = mean_absolute_error(test.target,labels)\r\n",
        "print('Mean Squared Error:', mean_squared_error(test.target, labels))  \r\n",
        "sqerror = mean_squared_error(test.target, labels)\r\n",
        "print('Root Mean Squared Error:', sqrt(mean_squared_error(test.target, labels, squared=False)))\r\n",
        "rerror = sqrt(mean_squared_error(test.target, labels, squared=False))"
      ],
      "execution_count": null,
      "outputs": [
        {
          "output_type": "stream",
          "text": [
            "Accuracy: 0.9490445859872612\n",
            "Precision: 0.9490445859872612\n",
            "Recall: 0.9490445859872612\n",
            "F1 Score: 0.9489928525016245\n",
            "Mean Absolute Error: 0.050955414012738856\n",
            "Mean Squared Error: 0.050955414012738856\n",
            "Root Mean Squared Error: 0.4751137329032283\n"
          ],
          "name": "stdout"
        },
        {
          "output_type": "stream",
          "text": [
            "/usr/local/lib/python3.6/dist-packages/sklearn/metrics/_classification.py:1321: UserWarning: Note that pos_label (set to 'positive') is ignored when average != 'binary' (got 'micro'). You may use labels=[pos_label] to specify a single positive class.\n",
            "  % (pos_label, average), UserWarning)\n"
          ],
          "name": "stderr"
        }
      ]
    },
    {
      "cell_type": "code",
      "metadata": {
        "colab": {
          "base_uri": "https://localhost:8080/"
        },
        "id": "xNRlUzoycW6H",
        "outputId": "31293fd6-a29a-495a-f786-1bcec4a8b12c"
      },
      "source": [
        "Model2 = [acc,pre,rec,f1,abserror,sqerror,rerror]\r\n",
        "df['Perceptron and TF-IDF'] = Model2\r\n",
        "print(df)"
      ],
      "execution_count": null,
      "outputs": [
        {
          "output_type": "stream",
          "text": [
            "                         Naive Bayes and TF-IDF  Perceptron and TF-IDF\n",
            "Accuracy                               0.947771               0.949045\n",
            "Precision                              0.947771               0.949045\n",
            "Recall                                 0.947771               0.949045\n",
            "F1 Score                               0.947621               0.948993\n",
            "Mean Absolute Error                    0.052229               0.050955\n",
            "Mean Squared Error                     0.052229               0.050955\n",
            "Root Mean Squared Error                0.478056               0.475114\n"
          ],
          "name": "stdout"
        }
      ]
    },
    {
      "cell_type": "markdown",
      "metadata": {
        "id": "9ISDoMQfPmSD"
      },
      "source": [
        "logiatic Regression and TF-IDF"
      ]
    },
    {
      "cell_type": "code",
      "metadata": {
        "id": "BJzX-YG9PhTm"
      },
      "source": [
        "from sklearn.linear_model import LogisticRegression\r\n",
        "model = make_pipeline(TfidfVectorizer(), LogisticRegression())\r\n",
        "model.fit(train.data, train.target)\r\n",
        "labels = model.predict(test.data)"
      ],
      "execution_count": null,
      "outputs": []
    },
    {
      "cell_type": "code",
      "metadata": {
        "colab": {
          "base_uri": "https://localhost:8080/"
        },
        "id": "ZUxyFCFGPrlN",
        "outputId": "ae8ea390-2293-40d2-af77-121018de0599"
      },
      "source": [
        "from sklearn.metrics import confusion_matrix\r\n",
        "mat = confusion_matrix(test.target, labels)\r\n",
        "\r\n",
        "print(mat)"
      ],
      "execution_count": null,
      "outputs": [
        {
          "output_type": "stream",
          "text": [
            "[[369  20]\n",
            " [ 16 380]]\n"
          ],
          "name": "stdout"
        }
      ]
    },
    {
      "cell_type": "code",
      "metadata": {
        "colab": {
          "base_uri": "https://localhost:8080/"
        },
        "id": "hvo8PxMsPuKe",
        "outputId": "3658620b-16eb-4af5-f6a5-5d2889835df6"
      },
      "source": [
        "from sklearn.metrics import accuracy_score\r\n",
        "from sklearn.metrics import precision_score\r\n",
        "from sklearn.metrics import recall_score\r\n",
        "from sklearn.metrics import f1_score\r\n",
        "from sklearn.metrics import mean_absolute_error\r\n",
        "from sklearn.metrics import mean_squared_error\r\n",
        "from math import sqrt\r\n",
        "\r\n",
        "print('Accuracy:',accuracy_score(test.target,labels))\r\n",
        "acc = accuracy_score(test.target,labels)\r\n",
        "print('Precision:', precision_score(test.target,labels,pos_label='positive',average='micro'))\r\n",
        "pre = precision_score(test.target,labels,pos_label='positive',average='micro')\r\n",
        "print('Recall:', recall_score(test.target,labels,pos_label='positive',average='micro'))\r\n",
        "rec = recall_score(test.target,labels,pos_label='positive',average='micro')\r\n",
        "print('F1 Score:', f1_score(labels, test.target, average='macro'))\r\n",
        "f1 = f1_score(labels, test.target, average='macro')\r\n",
        "print('Mean Absolute Error:', mean_absolute_error(test.target,labels))\r\n",
        "abserror = mean_absolute_error(test.target,labels)\r\n",
        "print('Mean Squared Error:', mean_squared_error(test.target, labels))  \r\n",
        "sqerror = mean_squared_error(test.target, labels)\r\n",
        "print('Root Mean Squared Error:', sqrt(mean_squared_error(test.target, labels, squared=False)))\r\n",
        "rerror = sqrt(mean_squared_error(test.target, labels, squared=False))"
      ],
      "execution_count": null,
      "outputs": [
        {
          "output_type": "stream",
          "text": [
            "Accuracy: 0.954140127388535\n",
            "Precision: 0.954140127388535\n",
            "Recall: 0.954140127388535\n",
            "F1 Score: 0.9541311207198785\n",
            "Mean Absolute Error: 0.045859872611464965\n",
            "Mean Squared Error: 0.045859872611464965\n",
            "Root Mean Squared Error: 0.46276255582585213\n"
          ],
          "name": "stdout"
        },
        {
          "output_type": "stream",
          "text": [
            "/usr/local/lib/python3.6/dist-packages/sklearn/metrics/_classification.py:1321: UserWarning: Note that pos_label (set to 'positive') is ignored when average != 'binary' (got 'micro'). You may use labels=[pos_label] to specify a single positive class.\n",
            "  % (pos_label, average), UserWarning)\n"
          ],
          "name": "stderr"
        }
      ]
    },
    {
      "cell_type": "code",
      "metadata": {
        "colab": {
          "base_uri": "https://localhost:8080/"
        },
        "id": "hR0OD3d2Pwpz",
        "outputId": "8e89cb9f-9474-46ba-91e8-ec1bca6b4a6c"
      },
      "source": [
        "Model3 = [acc,pre,rec,f1,abserror,sqerror,rerror]\r\n",
        "df['logiatic Regression and TF-IDF'] = Model3\r\n",
        "print(df)"
      ],
      "execution_count": null,
      "outputs": [
        {
          "output_type": "stream",
          "text": [
            "                         Naive Bayes and TF-IDF  ...  logiatic Regression and TF-IDF\n",
            "Accuracy                               0.947771  ...                        0.954140\n",
            "Precision                              0.947771  ...                        0.954140\n",
            "Recall                                 0.947771  ...                        0.954140\n",
            "F1 Score                               0.947621  ...                        0.954131\n",
            "Mean Absolute Error                    0.052229  ...                        0.045860\n",
            "Mean Squared Error                     0.052229  ...                        0.045860\n",
            "Root Mean Squared Error                0.478056  ...                        0.462763\n",
            "\n",
            "[7 rows x 3 columns]\n"
          ],
          "name": "stdout"
        }
      ]
    },
    {
      "cell_type": "code",
      "metadata": {
        "colab": {
          "base_uri": "https://localhost:8080/",
          "height": 266
        },
        "id": "EMfCRisGrFsG",
        "outputId": "abbb0d8a-5503-459d-f669-8c74a5d8c7c1"
      },
      "source": [
        "df"
      ],
      "execution_count": null,
      "outputs": [
        {
          "output_type": "execute_result",
          "data": {
            "text/html": [
              "<div>\n",
              "<style scoped>\n",
              "    .dataframe tbody tr th:only-of-type {\n",
              "        vertical-align: middle;\n",
              "    }\n",
              "\n",
              "    .dataframe tbody tr th {\n",
              "        vertical-align: top;\n",
              "    }\n",
              "\n",
              "    .dataframe thead th {\n",
              "        text-align: right;\n",
              "    }\n",
              "</style>\n",
              "<table border=\"1\" class=\"dataframe\">\n",
              "  <thead>\n",
              "    <tr style=\"text-align: right;\">\n",
              "      <th></th>\n",
              "      <th>Naive Bayes and TF-IDF</th>\n",
              "      <th>Perceptron and TF-IDF</th>\n",
              "      <th>logiatic Regression and TF-IDF</th>\n",
              "    </tr>\n",
              "  </thead>\n",
              "  <tbody>\n",
              "    <tr>\n",
              "      <th>Accuracy</th>\n",
              "      <td>0.947771</td>\n",
              "      <td>0.949045</td>\n",
              "      <td>0.954140</td>\n",
              "    </tr>\n",
              "    <tr>\n",
              "      <th>Precision</th>\n",
              "      <td>0.947771</td>\n",
              "      <td>0.949045</td>\n",
              "      <td>0.954140</td>\n",
              "    </tr>\n",
              "    <tr>\n",
              "      <th>Recall</th>\n",
              "      <td>0.947771</td>\n",
              "      <td>0.949045</td>\n",
              "      <td>0.954140</td>\n",
              "    </tr>\n",
              "    <tr>\n",
              "      <th>F1 Score</th>\n",
              "      <td>0.947621</td>\n",
              "      <td>0.948993</td>\n",
              "      <td>0.954131</td>\n",
              "    </tr>\n",
              "    <tr>\n",
              "      <th>Mean Absolute Error</th>\n",
              "      <td>0.052229</td>\n",
              "      <td>0.050955</td>\n",
              "      <td>0.045860</td>\n",
              "    </tr>\n",
              "    <tr>\n",
              "      <th>Mean Squared Error</th>\n",
              "      <td>0.052229</td>\n",
              "      <td>0.050955</td>\n",
              "      <td>0.045860</td>\n",
              "    </tr>\n",
              "    <tr>\n",
              "      <th>Root Mean Squared Error</th>\n",
              "      <td>0.478056</td>\n",
              "      <td>0.475114</td>\n",
              "      <td>0.462763</td>\n",
              "    </tr>\n",
              "  </tbody>\n",
              "</table>\n",
              "</div>"
            ],
            "text/plain": [
              "                         Naive Bayes and TF-IDF  ...  logiatic Regression and TF-IDF\n",
              "Accuracy                               0.947771  ...                        0.954140\n",
              "Precision                              0.947771  ...                        0.954140\n",
              "Recall                                 0.947771  ...                        0.954140\n",
              "F1 Score                               0.947621  ...                        0.954131\n",
              "Mean Absolute Error                    0.052229  ...                        0.045860\n",
              "Mean Squared Error                     0.052229  ...                        0.045860\n",
              "Root Mean Squared Error                0.478056  ...                        0.462763\n",
              "\n",
              "[7 rows x 3 columns]"
            ]
          },
          "metadata": {
            "tags": []
          },
          "execution_count": 27
        }
      ]
    },
    {
      "cell_type": "code",
      "metadata": {
        "colab": {
          "base_uri": "https://localhost:8080/"
        },
        "id": "UTrF0XmdrKDm",
        "outputId": "a90a32cd-b10e-48e8-9765-0a71e29b46fd"
      },
      "source": [
        "print('The model with highest accuracy is:', df.iloc[0].idxmax())\r\n",
        "print('The model with highest f1 score is:', df.iloc[3].idxmax())"
      ],
      "execution_count": null,
      "outputs": [
        {
          "output_type": "stream",
          "text": [
            "The model with highest accuracy is: logiatic Regression and TF-IDF\n",
            "The model with highest f1 score is: logiatic Regression and TF-IDF\n"
          ],
          "name": "stdout"
        }
      ]
    },
    {
      "cell_type": "code",
      "metadata": {
        "id": "CZkLR5Hv6u_A"
      },
      "source": [
        ""
      ],
      "execution_count": null,
      "outputs": []
    }
  ]
}